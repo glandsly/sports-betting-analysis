{
 "cells": [
  {
   "cell_type": "markdown",
   "metadata": {},
   "source": [
    "# NFL Scores and Betting Data\n",
    "\n",
    "## First Look\n",
    "\n",
    "The primary data we will be working with comes from https://www.kaggle.com/tobycrabtree/nfl-scores-and-betting-data\n",
    "\n",
    "Before we can get into analysis and work towards answering our questions, we need to get an idea of what our data looks like. "
   ]
  },
  {
   "cell_type": "code",
   "execution_count": 1,
   "metadata": {},
   "outputs": [],
   "source": [
    "# Dependencies and Setup\n",
    "import pandas as pd\n",
    "\n",
    "# Disable settingwithcopy wanrning - doesn't like chaining index modifications on the same dataframe\n",
    "# Will not be an issue for this project, but it's usually not a good idea to disable the warning like this\n",
    "pd.set_option('mode.chained_assignment', None)"
   ]
  },
  {
   "cell_type": "code",
   "execution_count": 2,
   "metadata": {},
   "outputs": [],
   "source": [
    "# load csvs into dataframes\n",
    "# stadium csv has an encoding issue, will resolve to fix but data is not vital - skipping for now\n",
    "# stadiums_df = pd.read_csv(\"raw data/nfl-scores-and-betting-data/nfl_stadiums.csv\") \n",
    "teams_df = pd.read_csv(\"raw data/nfl-scores-and-betting-data/nfl_teams.csv\")\n",
    "scorelines_df = pd.read_csv(\"raw data/nfl-scores-and-betting-data/spreadspoke_scores.csv\")"
   ]
  },
  {
   "cell_type": "markdown",
   "metadata": {},
   "source": [
    "The most useful and interesting data is located in the scorelines dataframe, so let's get a look at it"
   ]
  },
  {
   "cell_type": "code",
   "execution_count": 3,
   "metadata": {},
   "outputs": [
    {
     "output_type": "execute_result",
     "data": {
      "text/plain": "  schedule_date  schedule_season schedule_week  schedule_playoff  \\\n0    09/02/1966             1966             1             False   \n1    09/03/1966             1966             1             False   \n2    09/04/1966             1966             1             False   \n3    09/09/1966             1966             2             False   \n4    09/10/1966             1966             1             False   \n\n            team_home  score_home  score_away        team_away  \\\n0      Miami Dolphins          14          23  Oakland Raiders   \n1      Houston Oilers          45           7   Denver Broncos   \n2  San Diego Chargers          27           7    Buffalo Bills   \n3      Miami Dolphins          14          19    New York Jets   \n4   Green Bay Packers          24           3  Baltimore Colts   \n\n  team_favorite_id  spread_favorite over_under_line         stadium  \\\n0              NaN              NaN             NaN     Orange Bowl   \n1              NaN              NaN             NaN    Rice Stadium   \n2              NaN              NaN             NaN  Balboa Stadium   \n3              NaN              NaN             NaN     Orange Bowl   \n4              NaN              NaN             NaN   Lambeau Field   \n\n   stadium_neutral  weather_temperature  weather_wind_mph weather_humidity  \\\n0            False                 83.0               6.0               71   \n1            False                 81.0               7.0               70   \n2            False                 70.0               7.0               82   \n3            False                 82.0              11.0               78   \n4            False                 64.0               8.0               62   \n\n  weather_detail  \n0            NaN  \n1            NaN  \n2            NaN  \n3            NaN  \n4            NaN  ",
      "text/html": "<div>\n<style scoped>\n    .dataframe tbody tr th:only-of-type {\n        vertical-align: middle;\n    }\n\n    .dataframe tbody tr th {\n        vertical-align: top;\n    }\n\n    .dataframe thead th {\n        text-align: right;\n    }\n</style>\n<table border=\"1\" class=\"dataframe\">\n  <thead>\n    <tr style=\"text-align: right;\">\n      <th></th>\n      <th>schedule_date</th>\n      <th>schedule_season</th>\n      <th>schedule_week</th>\n      <th>schedule_playoff</th>\n      <th>team_home</th>\n      <th>score_home</th>\n      <th>score_away</th>\n      <th>team_away</th>\n      <th>team_favorite_id</th>\n      <th>spread_favorite</th>\n      <th>over_under_line</th>\n      <th>stadium</th>\n      <th>stadium_neutral</th>\n      <th>weather_temperature</th>\n      <th>weather_wind_mph</th>\n      <th>weather_humidity</th>\n      <th>weather_detail</th>\n    </tr>\n  </thead>\n  <tbody>\n    <tr>\n      <th>0</th>\n      <td>09/02/1966</td>\n      <td>1966</td>\n      <td>1</td>\n      <td>False</td>\n      <td>Miami Dolphins</td>\n      <td>14</td>\n      <td>23</td>\n      <td>Oakland Raiders</td>\n      <td>NaN</td>\n      <td>NaN</td>\n      <td>NaN</td>\n      <td>Orange Bowl</td>\n      <td>False</td>\n      <td>83.0</td>\n      <td>6.0</td>\n      <td>71</td>\n      <td>NaN</td>\n    </tr>\n    <tr>\n      <th>1</th>\n      <td>09/03/1966</td>\n      <td>1966</td>\n      <td>1</td>\n      <td>False</td>\n      <td>Houston Oilers</td>\n      <td>45</td>\n      <td>7</td>\n      <td>Denver Broncos</td>\n      <td>NaN</td>\n      <td>NaN</td>\n      <td>NaN</td>\n      <td>Rice Stadium</td>\n      <td>False</td>\n      <td>81.0</td>\n      <td>7.0</td>\n      <td>70</td>\n      <td>NaN</td>\n    </tr>\n    <tr>\n      <th>2</th>\n      <td>09/04/1966</td>\n      <td>1966</td>\n      <td>1</td>\n      <td>False</td>\n      <td>San Diego Chargers</td>\n      <td>27</td>\n      <td>7</td>\n      <td>Buffalo Bills</td>\n      <td>NaN</td>\n      <td>NaN</td>\n      <td>NaN</td>\n      <td>Balboa Stadium</td>\n      <td>False</td>\n      <td>70.0</td>\n      <td>7.0</td>\n      <td>82</td>\n      <td>NaN</td>\n    </tr>\n    <tr>\n      <th>3</th>\n      <td>09/09/1966</td>\n      <td>1966</td>\n      <td>2</td>\n      <td>False</td>\n      <td>Miami Dolphins</td>\n      <td>14</td>\n      <td>19</td>\n      <td>New York Jets</td>\n      <td>NaN</td>\n      <td>NaN</td>\n      <td>NaN</td>\n      <td>Orange Bowl</td>\n      <td>False</td>\n      <td>82.0</td>\n      <td>11.0</td>\n      <td>78</td>\n      <td>NaN</td>\n    </tr>\n    <tr>\n      <th>4</th>\n      <td>09/10/1966</td>\n      <td>1966</td>\n      <td>1</td>\n      <td>False</td>\n      <td>Green Bay Packers</td>\n      <td>24</td>\n      <td>3</td>\n      <td>Baltimore Colts</td>\n      <td>NaN</td>\n      <td>NaN</td>\n      <td>NaN</td>\n      <td>Lambeau Field</td>\n      <td>False</td>\n      <td>64.0</td>\n      <td>8.0</td>\n      <td>62</td>\n      <td>NaN</td>\n    </tr>\n  </tbody>\n</table>\n</div>"
     },
     "metadata": {},
     "execution_count": 3
    }
   ],
   "source": [
    "scorelines_df.head()"
   ]
  },
  {
   "cell_type": "markdown",
   "metadata": {},
   "source": [
    "Now we want to find out how big this dataframe is. There are a number of ways to do this, such as doing a describe on the dataframe or simply doing len(scorelines_df). However, we also want to get a look at the data near the end of the dataframe to see how it comapres to the first rows. \n",
    "\n",
    "Looking at the tail also gives us a quick look at how recent the data is. In this case, the data is very current and goes all the way up to the most recent football games played (the Superbowl)."
   ]
  },
  {
   "cell_type": "code",
   "execution_count": 4,
   "metadata": {},
   "outputs": [
    {
     "output_type": "execute_result",
     "data": {
      "text/plain": "      schedule_date  schedule_season schedule_week  schedule_playoff  \\\n12673    01/12/2020             2019      Division              True   \n12674    01/12/2020             2019      Division              True   \n12675    01/19/2020             2019    Conference              True   \n12676    01/19/2020             2019    Conference              True   \n12677    02/02/2020             2019     Superbowl              True   \n\n                 team_home  score_home  score_away            team_away  \\\n12673    Green Bay Packers          28          23     Seattle Seahawks   \n12674   Kansas City Chiefs          51          31       Houston Texans   \n12675   Kansas City Chiefs          35          24     Tennessee Titans   \n12676  San Francisco 49ers          37          20    Green Bay Packers   \n12677   Kansas City Chiefs          31          20  San Francisco 49ers   \n\n      team_favorite_id  spread_favorite over_under_line            stadium  \\\n12673               GB             -4.5            45.5      Lambeau Field   \n12674               KC            -10.0            50.5  Arrowhead Stadium   \n12675               KC             -7.0              51  Arrowhead Stadium   \n12676               SF             -8.0            46.5     Levi's Stadium   \n12677               KC             -1.5              53  Hard Rock Stadium   \n\n       stadium_neutral  weather_temperature  weather_wind_mph  \\\n12673            False                  NaN               NaN   \n12674            False                  NaN               NaN   \n12675            False                  NaN               NaN   \n12676            False                  NaN               NaN   \n12677             True                  NaN               NaN   \n\n      weather_humidity weather_detail  \n12673              NaN            NaN  \n12674              NaN            NaN  \n12675              NaN            NaN  \n12676              NaN            NaN  \n12677              NaN            NaN  ",
      "text/html": "<div>\n<style scoped>\n    .dataframe tbody tr th:only-of-type {\n        vertical-align: middle;\n    }\n\n    .dataframe tbody tr th {\n        vertical-align: top;\n    }\n\n    .dataframe thead th {\n        text-align: right;\n    }\n</style>\n<table border=\"1\" class=\"dataframe\">\n  <thead>\n    <tr style=\"text-align: right;\">\n      <th></th>\n      <th>schedule_date</th>\n      <th>schedule_season</th>\n      <th>schedule_week</th>\n      <th>schedule_playoff</th>\n      <th>team_home</th>\n      <th>score_home</th>\n      <th>score_away</th>\n      <th>team_away</th>\n      <th>team_favorite_id</th>\n      <th>spread_favorite</th>\n      <th>over_under_line</th>\n      <th>stadium</th>\n      <th>stadium_neutral</th>\n      <th>weather_temperature</th>\n      <th>weather_wind_mph</th>\n      <th>weather_humidity</th>\n      <th>weather_detail</th>\n    </tr>\n  </thead>\n  <tbody>\n    <tr>\n      <th>12673</th>\n      <td>01/12/2020</td>\n      <td>2019</td>\n      <td>Division</td>\n      <td>True</td>\n      <td>Green Bay Packers</td>\n      <td>28</td>\n      <td>23</td>\n      <td>Seattle Seahawks</td>\n      <td>GB</td>\n      <td>-4.5</td>\n      <td>45.5</td>\n      <td>Lambeau Field</td>\n      <td>False</td>\n      <td>NaN</td>\n      <td>NaN</td>\n      <td>NaN</td>\n      <td>NaN</td>\n    </tr>\n    <tr>\n      <th>12674</th>\n      <td>01/12/2020</td>\n      <td>2019</td>\n      <td>Division</td>\n      <td>True</td>\n      <td>Kansas City Chiefs</td>\n      <td>51</td>\n      <td>31</td>\n      <td>Houston Texans</td>\n      <td>KC</td>\n      <td>-10.0</td>\n      <td>50.5</td>\n      <td>Arrowhead Stadium</td>\n      <td>False</td>\n      <td>NaN</td>\n      <td>NaN</td>\n      <td>NaN</td>\n      <td>NaN</td>\n    </tr>\n    <tr>\n      <th>12675</th>\n      <td>01/19/2020</td>\n      <td>2019</td>\n      <td>Conference</td>\n      <td>True</td>\n      <td>Kansas City Chiefs</td>\n      <td>35</td>\n      <td>24</td>\n      <td>Tennessee Titans</td>\n      <td>KC</td>\n      <td>-7.0</td>\n      <td>51</td>\n      <td>Arrowhead Stadium</td>\n      <td>False</td>\n      <td>NaN</td>\n      <td>NaN</td>\n      <td>NaN</td>\n      <td>NaN</td>\n    </tr>\n    <tr>\n      <th>12676</th>\n      <td>01/19/2020</td>\n      <td>2019</td>\n      <td>Conference</td>\n      <td>True</td>\n      <td>San Francisco 49ers</td>\n      <td>37</td>\n      <td>20</td>\n      <td>Green Bay Packers</td>\n      <td>SF</td>\n      <td>-8.0</td>\n      <td>46.5</td>\n      <td>Levi's Stadium</td>\n      <td>False</td>\n      <td>NaN</td>\n      <td>NaN</td>\n      <td>NaN</td>\n      <td>NaN</td>\n    </tr>\n    <tr>\n      <th>12677</th>\n      <td>02/02/2020</td>\n      <td>2019</td>\n      <td>Superbowl</td>\n      <td>True</td>\n      <td>Kansas City Chiefs</td>\n      <td>31</td>\n      <td>20</td>\n      <td>San Francisco 49ers</td>\n      <td>KC</td>\n      <td>-1.5</td>\n      <td>53</td>\n      <td>Hard Rock Stadium</td>\n      <td>True</td>\n      <td>NaN</td>\n      <td>NaN</td>\n      <td>NaN</td>\n      <td>NaN</td>\n    </tr>\n  </tbody>\n</table>\n</div>"
     },
     "metadata": {},
     "execution_count": 4
    }
   ],
   "source": [
    "scorelines_df.tail()"
   ]
  },
  {
   "cell_type": "markdown",
   "metadata": {},
   "source": [
    "12,677 rows is a lot of data. While it all could be useful, it's best to start with more manageable data and work our way outwards. We can also see the weather data has some NaN values that we will need to take care of later.\n",
    "\n",
    "## Cleaning\n",
    "\n",
    "First, we'll start by trimming the dataframe to only contain data on games played in roughly the last 20 years (year 2000 and beyond)."
   ]
  },
  {
   "cell_type": "code",
   "execution_count": 5,
   "metadata": {},
   "outputs": [],
   "source": [
    "scorelines_trimmed_df = scorelines_df[scorelines_df['schedule_season'] >= 2000]"
   ]
  },
  {
   "cell_type": "code",
   "execution_count": 6,
   "metadata": {},
   "outputs": [
    {
     "output_type": "execute_result",
     "data": {
      "text/plain": "     schedule_date  schedule_season schedule_week  schedule_playoff  \\\n7354    09/03/2000             2000             1             False   \n7355    09/03/2000             2000             1             False   \n7356    09/03/2000             2000             1             False   \n7357    09/03/2000             2000             1             False   \n7358    09/03/2000             2000             1             False   \n\n              team_home  score_home  score_away             team_away  \\\n7354    Atlanta Falcons          36          28   San Francisco 49ers   \n7355      Buffalo Bills          16          13      Tennessee Titans   \n7356   Cleveland Browns           7          27  Jacksonville Jaguars   \n7357     Dallas Cowboys          14          41   Philadelphia Eagles   \n7358  Green Bay Packers          16          20         New York Jets   \n\n     team_favorite_id  spread_favorite over_under_line               stadium  \\\n7354              ATL             -6.5            46.5          Georgia Dome   \n7355              BUF             -1.0              40  Ralph Wilson Stadium   \n7356              JAX            -10.5            38.5   FirstEnergy Stadium   \n7357              DAL             -6.0            39.5         Texas Stadium   \n7358               GB             -2.5              44         Lambeau Field   \n\n      stadium_neutral  weather_temperature  weather_wind_mph weather_humidity  \\\n7354            False                 72.0               0.0              NaN   \n7355            False                 70.0               7.0               82   \n7356            False                 75.0               8.0               86   \n7357            False                 95.0               7.0               32   \n7358            False                 69.0              13.0               87   \n\n     weather_detail  \n7354           DOME  \n7355            NaN  \n7356            NaN  \n7357            NaN  \n7358            NaN  ",
      "text/html": "<div>\n<style scoped>\n    .dataframe tbody tr th:only-of-type {\n        vertical-align: middle;\n    }\n\n    .dataframe tbody tr th {\n        vertical-align: top;\n    }\n\n    .dataframe thead th {\n        text-align: right;\n    }\n</style>\n<table border=\"1\" class=\"dataframe\">\n  <thead>\n    <tr style=\"text-align: right;\">\n      <th></th>\n      <th>schedule_date</th>\n      <th>schedule_season</th>\n      <th>schedule_week</th>\n      <th>schedule_playoff</th>\n      <th>team_home</th>\n      <th>score_home</th>\n      <th>score_away</th>\n      <th>team_away</th>\n      <th>team_favorite_id</th>\n      <th>spread_favorite</th>\n      <th>over_under_line</th>\n      <th>stadium</th>\n      <th>stadium_neutral</th>\n      <th>weather_temperature</th>\n      <th>weather_wind_mph</th>\n      <th>weather_humidity</th>\n      <th>weather_detail</th>\n    </tr>\n  </thead>\n  <tbody>\n    <tr>\n      <th>7354</th>\n      <td>09/03/2000</td>\n      <td>2000</td>\n      <td>1</td>\n      <td>False</td>\n      <td>Atlanta Falcons</td>\n      <td>36</td>\n      <td>28</td>\n      <td>San Francisco 49ers</td>\n      <td>ATL</td>\n      <td>-6.5</td>\n      <td>46.5</td>\n      <td>Georgia Dome</td>\n      <td>False</td>\n      <td>72.0</td>\n      <td>0.0</td>\n      <td>NaN</td>\n      <td>DOME</td>\n    </tr>\n    <tr>\n      <th>7355</th>\n      <td>09/03/2000</td>\n      <td>2000</td>\n      <td>1</td>\n      <td>False</td>\n      <td>Buffalo Bills</td>\n      <td>16</td>\n      <td>13</td>\n      <td>Tennessee Titans</td>\n      <td>BUF</td>\n      <td>-1.0</td>\n      <td>40</td>\n      <td>Ralph Wilson Stadium</td>\n      <td>False</td>\n      <td>70.0</td>\n      <td>7.0</td>\n      <td>82</td>\n      <td>NaN</td>\n    </tr>\n    <tr>\n      <th>7356</th>\n      <td>09/03/2000</td>\n      <td>2000</td>\n      <td>1</td>\n      <td>False</td>\n      <td>Cleveland Browns</td>\n      <td>7</td>\n      <td>27</td>\n      <td>Jacksonville Jaguars</td>\n      <td>JAX</td>\n      <td>-10.5</td>\n      <td>38.5</td>\n      <td>FirstEnergy Stadium</td>\n      <td>False</td>\n      <td>75.0</td>\n      <td>8.0</td>\n      <td>86</td>\n      <td>NaN</td>\n    </tr>\n    <tr>\n      <th>7357</th>\n      <td>09/03/2000</td>\n      <td>2000</td>\n      <td>1</td>\n      <td>False</td>\n      <td>Dallas Cowboys</td>\n      <td>14</td>\n      <td>41</td>\n      <td>Philadelphia Eagles</td>\n      <td>DAL</td>\n      <td>-6.0</td>\n      <td>39.5</td>\n      <td>Texas Stadium</td>\n      <td>False</td>\n      <td>95.0</td>\n      <td>7.0</td>\n      <td>32</td>\n      <td>NaN</td>\n    </tr>\n    <tr>\n      <th>7358</th>\n      <td>09/03/2000</td>\n      <td>2000</td>\n      <td>1</td>\n      <td>False</td>\n      <td>Green Bay Packers</td>\n      <td>16</td>\n      <td>20</td>\n      <td>New York Jets</td>\n      <td>GB</td>\n      <td>-2.5</td>\n      <td>44</td>\n      <td>Lambeau Field</td>\n      <td>False</td>\n      <td>69.0</td>\n      <td>13.0</td>\n      <td>87</td>\n      <td>NaN</td>\n    </tr>\n  </tbody>\n</table>\n</div>"
     },
     "metadata": {},
     "execution_count": 6
    }
   ],
   "source": [
    "scorelines_trimmed_df.head()"
   ]
  },
  {
   "cell_type": "markdown",
   "metadata": {},
   "source": [
    "Looks good, but now the index is way off. We can't really tell where we are. We'll reset it to account for our smaller dataframe and keep it inplace so that it modifies the trimmed dataframe. \n",
    "\n",
    "We'll also drop the old dataframe index rather than add it. It doesn't really tell us anything meaningful that we could later use."
   ]
  },
  {
   "cell_type": "code",
   "execution_count": 7,
   "metadata": {},
   "outputs": [],
   "source": [
    "scorelines_trimmed_df.reset_index(drop=True, inplace=True)"
   ]
  },
  {
   "cell_type": "code",
   "execution_count": 8,
   "metadata": {},
   "outputs": [
    {
     "output_type": "execute_result",
     "data": {
      "text/plain": "  schedule_date  schedule_season schedule_week  schedule_playoff  \\\n0    09/03/2000             2000             1             False   \n1    09/03/2000             2000             1             False   \n2    09/03/2000             2000             1             False   \n3    09/03/2000             2000             1             False   \n4    09/03/2000             2000             1             False   \n\n           team_home  score_home  score_away             team_away  \\\n0    Atlanta Falcons          36          28   San Francisco 49ers   \n1      Buffalo Bills          16          13      Tennessee Titans   \n2   Cleveland Browns           7          27  Jacksonville Jaguars   \n3     Dallas Cowboys          14          41   Philadelphia Eagles   \n4  Green Bay Packers          16          20         New York Jets   \n\n  team_favorite_id  spread_favorite over_under_line               stadium  \\\n0              ATL             -6.5            46.5          Georgia Dome   \n1              BUF             -1.0              40  Ralph Wilson Stadium   \n2              JAX            -10.5            38.5   FirstEnergy Stadium   \n3              DAL             -6.0            39.5         Texas Stadium   \n4               GB             -2.5              44         Lambeau Field   \n\n   stadium_neutral  weather_temperature  weather_wind_mph weather_humidity  \\\n0            False                 72.0               0.0              NaN   \n1            False                 70.0               7.0               82   \n2            False                 75.0               8.0               86   \n3            False                 95.0               7.0               32   \n4            False                 69.0              13.0               87   \n\n  weather_detail  \n0           DOME  \n1            NaN  \n2            NaN  \n3            NaN  \n4            NaN  ",
      "text/html": "<div>\n<style scoped>\n    .dataframe tbody tr th:only-of-type {\n        vertical-align: middle;\n    }\n\n    .dataframe tbody tr th {\n        vertical-align: top;\n    }\n\n    .dataframe thead th {\n        text-align: right;\n    }\n</style>\n<table border=\"1\" class=\"dataframe\">\n  <thead>\n    <tr style=\"text-align: right;\">\n      <th></th>\n      <th>schedule_date</th>\n      <th>schedule_season</th>\n      <th>schedule_week</th>\n      <th>schedule_playoff</th>\n      <th>team_home</th>\n      <th>score_home</th>\n      <th>score_away</th>\n      <th>team_away</th>\n      <th>team_favorite_id</th>\n      <th>spread_favorite</th>\n      <th>over_under_line</th>\n      <th>stadium</th>\n      <th>stadium_neutral</th>\n      <th>weather_temperature</th>\n      <th>weather_wind_mph</th>\n      <th>weather_humidity</th>\n      <th>weather_detail</th>\n    </tr>\n  </thead>\n  <tbody>\n    <tr>\n      <th>0</th>\n      <td>09/03/2000</td>\n      <td>2000</td>\n      <td>1</td>\n      <td>False</td>\n      <td>Atlanta Falcons</td>\n      <td>36</td>\n      <td>28</td>\n      <td>San Francisco 49ers</td>\n      <td>ATL</td>\n      <td>-6.5</td>\n      <td>46.5</td>\n      <td>Georgia Dome</td>\n      <td>False</td>\n      <td>72.0</td>\n      <td>0.0</td>\n      <td>NaN</td>\n      <td>DOME</td>\n    </tr>\n    <tr>\n      <th>1</th>\n      <td>09/03/2000</td>\n      <td>2000</td>\n      <td>1</td>\n      <td>False</td>\n      <td>Buffalo Bills</td>\n      <td>16</td>\n      <td>13</td>\n      <td>Tennessee Titans</td>\n      <td>BUF</td>\n      <td>-1.0</td>\n      <td>40</td>\n      <td>Ralph Wilson Stadium</td>\n      <td>False</td>\n      <td>70.0</td>\n      <td>7.0</td>\n      <td>82</td>\n      <td>NaN</td>\n    </tr>\n    <tr>\n      <th>2</th>\n      <td>09/03/2000</td>\n      <td>2000</td>\n      <td>1</td>\n      <td>False</td>\n      <td>Cleveland Browns</td>\n      <td>7</td>\n      <td>27</td>\n      <td>Jacksonville Jaguars</td>\n      <td>JAX</td>\n      <td>-10.5</td>\n      <td>38.5</td>\n      <td>FirstEnergy Stadium</td>\n      <td>False</td>\n      <td>75.0</td>\n      <td>8.0</td>\n      <td>86</td>\n      <td>NaN</td>\n    </tr>\n    <tr>\n      <th>3</th>\n      <td>09/03/2000</td>\n      <td>2000</td>\n      <td>1</td>\n      <td>False</td>\n      <td>Dallas Cowboys</td>\n      <td>14</td>\n      <td>41</td>\n      <td>Philadelphia Eagles</td>\n      <td>DAL</td>\n      <td>-6.0</td>\n      <td>39.5</td>\n      <td>Texas Stadium</td>\n      <td>False</td>\n      <td>95.0</td>\n      <td>7.0</td>\n      <td>32</td>\n      <td>NaN</td>\n    </tr>\n    <tr>\n      <th>4</th>\n      <td>09/03/2000</td>\n      <td>2000</td>\n      <td>1</td>\n      <td>False</td>\n      <td>Green Bay Packers</td>\n      <td>16</td>\n      <td>20</td>\n      <td>New York Jets</td>\n      <td>GB</td>\n      <td>-2.5</td>\n      <td>44</td>\n      <td>Lambeau Field</td>\n      <td>False</td>\n      <td>69.0</td>\n      <td>13.0</td>\n      <td>87</td>\n      <td>NaN</td>\n    </tr>\n  </tbody>\n</table>\n</div>"
     },
     "metadata": {},
     "execution_count": 8
    }
   ],
   "source": [
    "scorelines_trimmed_df.head()"
   ]
  },
  {
   "cell_type": "code",
   "execution_count": 9,
   "metadata": {},
   "outputs": [
    {
     "output_type": "execute_result",
     "data": {
      "text/plain": "5324"
     },
     "metadata": {},
     "execution_count": 9
    }
   ],
   "source": [
    "len(scorelines_trimmed_df)"
   ]
  },
  {
   "cell_type": "markdown",
   "metadata": {},
   "source": [
    "The index has been reset and we now have a dataframe that has 5324 rows. Still a good amount of data, but much more manageable.\n",
    "\n",
    "Now let's deal with the weather data. Looking at it could provide some interesting comparisons and trends, but the fact that data is missing is a problem. It's also not something we directly wanted to look at, so for now it's best to just remove the data from the dataframe. If this project were going to continue in the future, the weather data would be a good item to return to and work on more closely."
   ]
  },
  {
   "cell_type": "code",
   "execution_count": 10,
   "metadata": {},
   "outputs": [],
   "source": [
    "scorelines_trimmed_df.drop(['weather_temperature', 'weather_wind_mph', 'weather_humidity', 'weather_detail'], axis=1, inplace=True)"
   ]
  },
  {
   "cell_type": "code",
   "execution_count": 11,
   "metadata": {},
   "outputs": [
    {
     "output_type": "execute_result",
     "data": {
      "text/plain": "  schedule_date  schedule_season schedule_week  schedule_playoff  \\\n0    09/03/2000             2000             1             False   \n1    09/03/2000             2000             1             False   \n2    09/03/2000             2000             1             False   \n3    09/03/2000             2000             1             False   \n4    09/03/2000             2000             1             False   \n\n           team_home  score_home  score_away             team_away  \\\n0    Atlanta Falcons          36          28   San Francisco 49ers   \n1      Buffalo Bills          16          13      Tennessee Titans   \n2   Cleveland Browns           7          27  Jacksonville Jaguars   \n3     Dallas Cowboys          14          41   Philadelphia Eagles   \n4  Green Bay Packers          16          20         New York Jets   \n\n  team_favorite_id  spread_favorite over_under_line               stadium  \\\n0              ATL             -6.5            46.5          Georgia Dome   \n1              BUF             -1.0              40  Ralph Wilson Stadium   \n2              JAX            -10.5            38.5   FirstEnergy Stadium   \n3              DAL             -6.0            39.5         Texas Stadium   \n4               GB             -2.5              44         Lambeau Field   \n\n   stadium_neutral  \n0            False  \n1            False  \n2            False  \n3            False  \n4            False  ",
      "text/html": "<div>\n<style scoped>\n    .dataframe tbody tr th:only-of-type {\n        vertical-align: middle;\n    }\n\n    .dataframe tbody tr th {\n        vertical-align: top;\n    }\n\n    .dataframe thead th {\n        text-align: right;\n    }\n</style>\n<table border=\"1\" class=\"dataframe\">\n  <thead>\n    <tr style=\"text-align: right;\">\n      <th></th>\n      <th>schedule_date</th>\n      <th>schedule_season</th>\n      <th>schedule_week</th>\n      <th>schedule_playoff</th>\n      <th>team_home</th>\n      <th>score_home</th>\n      <th>score_away</th>\n      <th>team_away</th>\n      <th>team_favorite_id</th>\n      <th>spread_favorite</th>\n      <th>over_under_line</th>\n      <th>stadium</th>\n      <th>stadium_neutral</th>\n    </tr>\n  </thead>\n  <tbody>\n    <tr>\n      <th>0</th>\n      <td>09/03/2000</td>\n      <td>2000</td>\n      <td>1</td>\n      <td>False</td>\n      <td>Atlanta Falcons</td>\n      <td>36</td>\n      <td>28</td>\n      <td>San Francisco 49ers</td>\n      <td>ATL</td>\n      <td>-6.5</td>\n      <td>46.5</td>\n      <td>Georgia Dome</td>\n      <td>False</td>\n    </tr>\n    <tr>\n      <th>1</th>\n      <td>09/03/2000</td>\n      <td>2000</td>\n      <td>1</td>\n      <td>False</td>\n      <td>Buffalo Bills</td>\n      <td>16</td>\n      <td>13</td>\n      <td>Tennessee Titans</td>\n      <td>BUF</td>\n      <td>-1.0</td>\n      <td>40</td>\n      <td>Ralph Wilson Stadium</td>\n      <td>False</td>\n    </tr>\n    <tr>\n      <th>2</th>\n      <td>09/03/2000</td>\n      <td>2000</td>\n      <td>1</td>\n      <td>False</td>\n      <td>Cleveland Browns</td>\n      <td>7</td>\n      <td>27</td>\n      <td>Jacksonville Jaguars</td>\n      <td>JAX</td>\n      <td>-10.5</td>\n      <td>38.5</td>\n      <td>FirstEnergy Stadium</td>\n      <td>False</td>\n    </tr>\n    <tr>\n      <th>3</th>\n      <td>09/03/2000</td>\n      <td>2000</td>\n      <td>1</td>\n      <td>False</td>\n      <td>Dallas Cowboys</td>\n      <td>14</td>\n      <td>41</td>\n      <td>Philadelphia Eagles</td>\n      <td>DAL</td>\n      <td>-6.0</td>\n      <td>39.5</td>\n      <td>Texas Stadium</td>\n      <td>False</td>\n    </tr>\n    <tr>\n      <th>4</th>\n      <td>09/03/2000</td>\n      <td>2000</td>\n      <td>1</td>\n      <td>False</td>\n      <td>Green Bay Packers</td>\n      <td>16</td>\n      <td>20</td>\n      <td>New York Jets</td>\n      <td>GB</td>\n      <td>-2.5</td>\n      <td>44</td>\n      <td>Lambeau Field</td>\n      <td>False</td>\n    </tr>\n  </tbody>\n</table>\n</div>"
     },
     "metadata": {},
     "execution_count": 11
    }
   ],
   "source": [
    "scorelines_trimmed_df.head()"
   ]
  },
  {
   "cell_type": "markdown",
   "metadata": {},
   "source": [
    "Now we have a full dataframe complete with data that will be useful to us.\n",
    "\n",
    "Looking at it, however, we can see that the team favorite id doesn't match the team names. Sure, it tells us who the favorite is and anyone reading the data can compare and determine which team is represented by the abbreviation. But the computer can't do that. If we want to run comparisons using the favorite team the computer needs to know which team those abbreviations mean.\n",
    "\n",
    "We could address this a number of ways at different points in the procress. For example, we could implement a comparison dictionary later on that just substitutes the full name in place of the abbreviation when we need it. However, we feel it will be easier if we just use that dictionary to replace the favorite id with the full team name for now."
   ]
  },
  {
   "cell_type": "code",
   "execution_count": 12,
   "metadata": {},
   "outputs": [
    {
     "output_type": "execute_result",
     "data": {
      "text/plain": "array(['ATL', 'BUF', 'JAX', 'DAL', 'GB', 'IND', 'MIA', 'MIN', 'TB',\n       'PICK', 'NYG', 'OAK', 'BAL', 'WAS', 'LAR', 'ARI', 'CIN', 'DEN',\n       'PHI', 'LAC', 'CAR', 'TEN', 'NYJ', 'CHI', 'PIT', 'KC', 'NE', 'SEA',\n       'NO', 'DET', 'SF', 'CLE', 'HOU'], dtype=object)"
     },
     "metadata": {},
     "execution_count": 12
    }
   ],
   "source": [
    "# First we need to see all the possible abbreviations.\n",
    "scorelines_trimmed_df['team_favorite_id'].unique()"
   ]
  },
  {
   "cell_type": "code",
   "execution_count": 13,
   "metadata": {},
   "outputs": [
    {
     "output_type": "execute_result",
     "data": {
      "text/plain": "array(['Atlanta Falcons', 'Buffalo Bills', 'Cleveland Browns',\n       'Dallas Cowboys', 'Green Bay Packers', 'Kansas City Chiefs',\n       'Miami Dolphins', 'Minnesota Vikings', 'New England Patriots',\n       'New Orleans Saints', 'New York Giants', 'Oakland Raiders',\n       'Pittsburgh Steelers', 'Washington Redskins', 'St. Louis Rams',\n       'Arizona Cardinals', 'Baltimore Ravens', 'Cincinnati Bengals',\n       'Denver Broncos', 'Detroit Lions', 'Indianapolis Colts',\n       'Philadelphia Eagles', 'San Diego Chargers', 'San Francisco 49ers',\n       'Seattle Seahawks', 'Tampa Bay Buccaneers', 'Tennessee Titans',\n       'New York Jets', 'Carolina Panthers', 'Chicago Bears',\n       'Jacksonville Jaguars', 'Houston Texans', 'Los Angeles Rams',\n       'Los Angeles Chargers'], dtype=object)"
     },
     "metadata": {},
     "execution_count": 13
    }
   ],
   "source": [
    "# Now we need to see all the possible team names.\n",
    "scorelines_trimmed_df['team_home'].unique()"
   ]
  },
  {
   "cell_type": "code",
   "execution_count": 14,
   "metadata": {},
   "outputs": [],
   "source": [
    "# With the info from the above two cells, now it's a matter of matching the correct abbreviation to the correct team in a dictionary.\n",
    "team_names = {'ATL': 'Atlanta Falcons', 'BUF': 'Buffalo Bills', 'JAX': 'Jacksonville Jaguars', 'DAL': 'Dallas Cowboys', 'GB': 'Green Bay Packers', 'IND': 'Indianapolis Colts', 'MIA': 'Miami Dolphins', 'MIN': 'Minnesota Vikings', 'TB': 'Tampa Bay Buccaneers', 'NYG': 'New York Giants', 'OAK': 'Oakland Raiders', 'BAL': 'Baltimore Ravens', 'ARI': 'Arizona Cardinals', 'CIN': 'Cincinnati Bengals', 'DEN': 'Denver Broncos', 'PHI': 'Philadelphia Eagles', 'LAC': 'Los Angeles Chargers', 'CAR': 'Carolina Panthers', 'TEN': 'Tennessee Titans', 'NYJ': 'New York Jets', 'CHI': 'Chicago Bears', 'PIT': 'Pittsburgh Steelers', 'KC': 'Kansas City Chiefs', 'NE': 'New England Patriots', 'SEA': 'Seattle Seahawks', 'NO': 'New Orleans Saints', 'DET': 'Detroit Lions', 'SF': 'San Francisco 49ers', 'CLE': 'Cleveland Browns', 'HOU': 'Houston Texans', 'WAS': 'Washington Redskins', 'LAR': 'Los Angeles Rams'}"
   ]
  },
  {
   "cell_type": "code",
   "execution_count": 15,
   "metadata": {},
   "outputs": [],
   "source": [
    "# Now we use the dictionary to replace the abbreviations in the entire id column with the full team names\n",
    "scorelines_trimmed_df.replace({\"team_favorite_id\": team_names}, inplace=True) "
   ]
  },
  {
   "cell_type": "markdown",
   "metadata": {},
   "source": [
    "We're not quite done yet, as we noticed that the team favorite id mysteriously excludes the St. Louis Rams and the San Diego Chargers despite them both being present in the home and away team data.\n",
    "\n",
    "This likely has something to do with the fact that the Rams moved from St. Louis to Los Angeles in 2016 followed by the Chargers one year later. As such, we'll treat them as different teams for the purposes of our analysis and we need to add a special case for dealing with them."
   ]
  },
  {
   "cell_type": "code",
   "execution_count": 16,
   "metadata": {},
   "outputs": [],
   "source": [
    "# Replace the favorite id with the correct team in each row that those teams are found\n",
    "for index,row in scorelines_trimmed_df.iterrows():\n",
    "    if (row['team_home'] == \"San Diego Chargers\" or row['team_away'] == \"San Diego Chargers\") and row['team_favorite_id'] == \"Los Angeles Chargers\":\n",
    "        scorelines_trimmed_df.loc[index,'team_favorite_id'] = \"San Diego Chargers\"\n",
    "    if (row['team_home'] == \"St. Louis Rams\" or row['team_away'] == \"St. Louis Rams\") and row['team_favorite_id'] == \"Los Angeles Rams\":\n",
    "        scorelines_trimmed_df.loc[index,'team_favorite_id'] = \"St. Louis Rams\""
   ]
  },
  {
   "cell_type": "code",
   "execution_count": 17,
   "metadata": {
    "scrolled": true
   },
   "outputs": [
    {
     "output_type": "execute_result",
     "data": {
      "text/plain": "array(['Atlanta Falcons', 'Buffalo Bills', 'Jacksonville Jaguars',\n       'Dallas Cowboys', 'Green Bay Packers', 'Indianapolis Colts',\n       'Miami Dolphins', 'Minnesota Vikings', 'Tampa Bay Buccaneers',\n       'PICK', 'New York Giants', 'Oakland Raiders', 'Baltimore Ravens',\n       'Washington Redskins', 'St. Louis Rams', 'Arizona Cardinals',\n       'Cincinnati Bengals', 'Denver Broncos', 'Philadelphia Eagles',\n       'San Diego Chargers', 'Carolina Panthers', 'Tennessee Titans',\n       'New York Jets', 'Chicago Bears', 'Pittsburgh Steelers',\n       'Kansas City Chiefs', 'New England Patriots', 'Seattle Seahawks',\n       'New Orleans Saints', 'Detroit Lions', 'San Francisco 49ers',\n       'Cleveland Browns', 'Houston Texans', 'Los Angeles Rams',\n       'Los Angeles Chargers'], dtype=object)"
     },
     "metadata": {},
     "execution_count": 17
    }
   ],
   "source": [
    "# Make sure there are no abbreviations hiding in the dataframe\n",
    "# NOTE - PICK is still present but should not be dealt with. Indicates a scenario where there is no true favorite.\n",
    "scorelines_trimmed_df['team_favorite_id'].unique()"
   ]
  },
  {
   "cell_type": "markdown",
   "metadata": {},
   "source": [
    "## Calculations\n",
    "\n",
    "Data analysis is a cyclical process, even just within a single analysis.\n",
    "\n",
    "Now that we have a solid data with most of the data we want, we should make things easier for ourselves in the analysis phase. We'll bounce back and forth from that section to here as we discover more about the data and get a clearer idea of the paths we want to head down.\n",
    "\n",
    "While the data currently gives us the score and we can easily determine who won and lost, there's no columns that explicitly state the winner or loser. Having one will make comparisons and observations easier in the future. Some information about the winner will also be good, such as whether or not they were home or away and whether or not they were the favorite.\n",
    "\n",
    "Since we want to focus on information that would be most beneficial to sports bettors, it's important that we have a column determining the result of the over/under line as well as whether or not the favorite team covered the spread (won by more points than the projected difference)."
   ]
  },
  {
   "cell_type": "code",
   "execution_count": 18,
   "metadata": {},
   "outputs": [],
   "source": [
    "scorelines_trimmed_df['team_win'] = \"\"\n",
    "scorelines_trimmed_df['team_loss'] = \"\"\n",
    "scorelines_trimmed_df['home_away_win'] = \"\"\n",
    "scorelines_trimmed_df['fav_win'] = \"\"\n",
    "scorelines_trimmed_df['over_under_result'] = \"\"\n",
    "scorelines_trimmed_df['fav_spread_cover'] = \"\""
   ]
  },
  {
   "cell_type": "code",
   "execution_count": 19,
   "metadata": {},
   "outputs": [
    {
     "output_type": "execute_result",
     "data": {
      "text/plain": "  schedule_date  schedule_season schedule_week  schedule_playoff  \\\n0    09/03/2000             2000             1             False   \n1    09/03/2000             2000             1             False   \n2    09/03/2000             2000             1             False   \n3    09/03/2000             2000             1             False   \n4    09/03/2000             2000             1             False   \n\n           team_home  score_home  score_away             team_away  \\\n0    Atlanta Falcons          36          28   San Francisco 49ers   \n1      Buffalo Bills          16          13      Tennessee Titans   \n2   Cleveland Browns           7          27  Jacksonville Jaguars   \n3     Dallas Cowboys          14          41   Philadelphia Eagles   \n4  Green Bay Packers          16          20         New York Jets   \n\n       team_favorite_id  spread_favorite over_under_line  \\\n0       Atlanta Falcons             -6.5            46.5   \n1         Buffalo Bills             -1.0              40   \n2  Jacksonville Jaguars            -10.5            38.5   \n3        Dallas Cowboys             -6.0            39.5   \n4     Green Bay Packers             -2.5              44   \n\n                stadium  stadium_neutral team_win team_loss home_away_win  \\\n0          Georgia Dome            False                                    \n1  Ralph Wilson Stadium            False                                    \n2   FirstEnergy Stadium            False                                    \n3         Texas Stadium            False                                    \n4         Lambeau Field            False                                    \n\n  fav_win over_under_result fav_spread_cover  \n0                                             \n1                                             \n2                                             \n3                                             \n4                                             ",
      "text/html": "<div>\n<style scoped>\n    .dataframe tbody tr th:only-of-type {\n        vertical-align: middle;\n    }\n\n    .dataframe tbody tr th {\n        vertical-align: top;\n    }\n\n    .dataframe thead th {\n        text-align: right;\n    }\n</style>\n<table border=\"1\" class=\"dataframe\">\n  <thead>\n    <tr style=\"text-align: right;\">\n      <th></th>\n      <th>schedule_date</th>\n      <th>schedule_season</th>\n      <th>schedule_week</th>\n      <th>schedule_playoff</th>\n      <th>team_home</th>\n      <th>score_home</th>\n      <th>score_away</th>\n      <th>team_away</th>\n      <th>team_favorite_id</th>\n      <th>spread_favorite</th>\n      <th>over_under_line</th>\n      <th>stadium</th>\n      <th>stadium_neutral</th>\n      <th>team_win</th>\n      <th>team_loss</th>\n      <th>home_away_win</th>\n      <th>fav_win</th>\n      <th>over_under_result</th>\n      <th>fav_spread_cover</th>\n    </tr>\n  </thead>\n  <tbody>\n    <tr>\n      <th>0</th>\n      <td>09/03/2000</td>\n      <td>2000</td>\n      <td>1</td>\n      <td>False</td>\n      <td>Atlanta Falcons</td>\n      <td>36</td>\n      <td>28</td>\n      <td>San Francisco 49ers</td>\n      <td>Atlanta Falcons</td>\n      <td>-6.5</td>\n      <td>46.5</td>\n      <td>Georgia Dome</td>\n      <td>False</td>\n      <td></td>\n      <td></td>\n      <td></td>\n      <td></td>\n      <td></td>\n      <td></td>\n    </tr>\n    <tr>\n      <th>1</th>\n      <td>09/03/2000</td>\n      <td>2000</td>\n      <td>1</td>\n      <td>False</td>\n      <td>Buffalo Bills</td>\n      <td>16</td>\n      <td>13</td>\n      <td>Tennessee Titans</td>\n      <td>Buffalo Bills</td>\n      <td>-1.0</td>\n      <td>40</td>\n      <td>Ralph Wilson Stadium</td>\n      <td>False</td>\n      <td></td>\n      <td></td>\n      <td></td>\n      <td></td>\n      <td></td>\n      <td></td>\n    </tr>\n    <tr>\n      <th>2</th>\n      <td>09/03/2000</td>\n      <td>2000</td>\n      <td>1</td>\n      <td>False</td>\n      <td>Cleveland Browns</td>\n      <td>7</td>\n      <td>27</td>\n      <td>Jacksonville Jaguars</td>\n      <td>Jacksonville Jaguars</td>\n      <td>-10.5</td>\n      <td>38.5</td>\n      <td>FirstEnergy Stadium</td>\n      <td>False</td>\n      <td></td>\n      <td></td>\n      <td></td>\n      <td></td>\n      <td></td>\n      <td></td>\n    </tr>\n    <tr>\n      <th>3</th>\n      <td>09/03/2000</td>\n      <td>2000</td>\n      <td>1</td>\n      <td>False</td>\n      <td>Dallas Cowboys</td>\n      <td>14</td>\n      <td>41</td>\n      <td>Philadelphia Eagles</td>\n      <td>Dallas Cowboys</td>\n      <td>-6.0</td>\n      <td>39.5</td>\n      <td>Texas Stadium</td>\n      <td>False</td>\n      <td></td>\n      <td></td>\n      <td></td>\n      <td></td>\n      <td></td>\n      <td></td>\n    </tr>\n    <tr>\n      <th>4</th>\n      <td>09/03/2000</td>\n      <td>2000</td>\n      <td>1</td>\n      <td>False</td>\n      <td>Green Bay Packers</td>\n      <td>16</td>\n      <td>20</td>\n      <td>New York Jets</td>\n      <td>Green Bay Packers</td>\n      <td>-2.5</td>\n      <td>44</td>\n      <td>Lambeau Field</td>\n      <td>False</td>\n      <td></td>\n      <td></td>\n      <td></td>\n      <td></td>\n      <td></td>\n      <td></td>\n    </tr>\n  </tbody>\n</table>\n</div>"
     },
     "metadata": {},
     "execution_count": 19
    }
   ],
   "source": [
    "# Make sure all columns were added correctly without errors (spelling, etc.)\n",
    "scorelines_trimmed_df.head()"
   ]
  },
  {
   "cell_type": "markdown",
   "metadata": {},
   "source": [
    "With the data we have, the easiest way to do our calculations will be to iterate over each row and perform a number of comparisons. This will be a bit performance intensive over 5000+ rows, but should be manageable. The for statement could be repeated in different cells if cyclomatic complexity gets too large."
   ]
  },
  {
   "cell_type": "code",
   "execution_count": 20,
   "metadata": {},
   "outputs": [],
   "source": [
    "for index, row in scorelines_trimmed_df.iterrows():\n",
    "\n",
    "    # determine the winning/losing teams and whether or not the winning team was home/away\n",
    "    if scorelines_trimmed_df.loc[index, 'score_home'] > scorelines_trimmed_df.loc[index, 'score_away']:\n",
    "        scorelines_trimmed_df.loc[index, 'team_win'] = scorelines_trimmed_df.loc[index, 'team_home']\n",
    "        scorelines_trimmed_df.loc[index, 'team_loss'] = scorelines_trimmed_df.loc[index, 'team_away']\n",
    "        scorelines_trimmed_df.loc[index, 'home_away_win'] = \"Home\"\n",
    "    else:\n",
    "        scorelines_trimmed_df.loc[index, 'team_loss'] = scorelines_trimmed_df.loc[index, 'team_home']\n",
    "        scorelines_trimmed_df.loc[index, 'team_win'] = scorelines_trimmed_df.loc[index, 'team_away']\n",
    "        scorelines_trimmed_df.loc[index, 'home_away_win'] = \"Away\"\n",
    "\n",
    "    # determine if the favorite team won\n",
    "    if scorelines_trimmed_df.loc[index, 'team_win'] == scorelines_trimmed_df.loc[index, 'team_favorite_id']:\n",
    "        scorelines_trimmed_df.loc[index, 'fav_win'] = \"True\"\n",
    "    else:\n",
    "        scorelines_trimmed_df.loc[index, 'fav_win'] = \"False\"\n",
    "\n",
    "    # determine the result of the over/under bet - sum the scores and compare to the O/U line - larger = over, smaller = under\n",
    "    if (scorelines_trimmed_df.loc[index, 'score_home'] + scorelines_trimmed_df.loc[index, 'score_away']) > float(scorelines_trimmed_df.loc[index, 'over_under_line']):\n",
    "        scorelines_trimmed_df.loc[index, 'over_under_result'] = \"Over\"\n",
    "    elif (scorelines_trimmed_df.loc[index, 'score_home'] + scorelines_trimmed_df.loc[index, 'score_away']) == scorelines_trimmed_df.loc[index, 'over_under_line']:\n",
    "        scorelines_trimmed_df.loc[index, 'over_under_result'] = \"Push\" # a push happens if the score equals the O/U line, essentially no one wins the bet\n",
    "    else:\n",
    "        scorelines_trimmed_df.loc[index, 'over_under_result'] = \"Under\"\n",
    "\n",
    "    # determine if the favorite team covered the spread - absolute value of the home/away score difference compared to the abs of the spread - larger = cover, smaller = no cover\n",
    "    if scorelines_trimmed_df.loc[index, 'fav_win'] == 'True': # if the favorite lost, they automatically didn't cover the spread\n",
    "        if abs(scorelines_trimmed_df.loc[index, 'score_home'] - scorelines_trimmed_df.loc[index, 'score_away']) > abs(float(scorelines_trimmed_df.loc[index, 'spread_favorite'])):\n",
    "            scorelines_trimmed_df.loc[index, 'fav_spread_cover'] = \"True\"\n",
    "        else:\n",
    "            scorelines_trimmed_df.loc[index, 'fav_spread_cover'] = \"False\"\n",
    "    else:\n",
    "        scorelines_trimmed_df.loc[index, 'fav_spread_cover'] = \"False\""
   ]
  },
  {
   "cell_type": "code",
   "execution_count": 21,
   "metadata": {},
   "outputs": [
    {
     "output_type": "execute_result",
     "data": {
      "text/plain": "  schedule_date  schedule_season schedule_week  schedule_playoff  \\\n0    09/03/2000             2000             1             False   \n1    09/03/2000             2000             1             False   \n2    09/03/2000             2000             1             False   \n3    09/03/2000             2000             1             False   \n4    09/03/2000             2000             1             False   \n\n           team_home  score_home  score_away             team_away  \\\n0    Atlanta Falcons          36          28   San Francisco 49ers   \n1      Buffalo Bills          16          13      Tennessee Titans   \n2   Cleveland Browns           7          27  Jacksonville Jaguars   \n3     Dallas Cowboys          14          41   Philadelphia Eagles   \n4  Green Bay Packers          16          20         New York Jets   \n\n       team_favorite_id  spread_favorite over_under_line  \\\n0       Atlanta Falcons             -6.5            46.5   \n1         Buffalo Bills             -1.0              40   \n2  Jacksonville Jaguars            -10.5            38.5   \n3        Dallas Cowboys             -6.0            39.5   \n4     Green Bay Packers             -2.5              44   \n\n                stadium  stadium_neutral              team_win  \\\n0          Georgia Dome            False       Atlanta Falcons   \n1  Ralph Wilson Stadium            False         Buffalo Bills   \n2   FirstEnergy Stadium            False  Jacksonville Jaguars   \n3         Texas Stadium            False   Philadelphia Eagles   \n4         Lambeau Field            False         New York Jets   \n\n             team_loss home_away_win fav_win over_under_result  \\\n0  San Francisco 49ers          Home    True              Over   \n1     Tennessee Titans          Home    True             Under   \n2     Cleveland Browns          Away    True             Under   \n3       Dallas Cowboys          Away   False              Over   \n4    Green Bay Packers          Away   False             Under   \n\n  fav_spread_cover  \n0             True  \n1             True  \n2             True  \n3            False  \n4            False  ",
      "text/html": "<div>\n<style scoped>\n    .dataframe tbody tr th:only-of-type {\n        vertical-align: middle;\n    }\n\n    .dataframe tbody tr th {\n        vertical-align: top;\n    }\n\n    .dataframe thead th {\n        text-align: right;\n    }\n</style>\n<table border=\"1\" class=\"dataframe\">\n  <thead>\n    <tr style=\"text-align: right;\">\n      <th></th>\n      <th>schedule_date</th>\n      <th>schedule_season</th>\n      <th>schedule_week</th>\n      <th>schedule_playoff</th>\n      <th>team_home</th>\n      <th>score_home</th>\n      <th>score_away</th>\n      <th>team_away</th>\n      <th>team_favorite_id</th>\n      <th>spread_favorite</th>\n      <th>over_under_line</th>\n      <th>stadium</th>\n      <th>stadium_neutral</th>\n      <th>team_win</th>\n      <th>team_loss</th>\n      <th>home_away_win</th>\n      <th>fav_win</th>\n      <th>over_under_result</th>\n      <th>fav_spread_cover</th>\n    </tr>\n  </thead>\n  <tbody>\n    <tr>\n      <th>0</th>\n      <td>09/03/2000</td>\n      <td>2000</td>\n      <td>1</td>\n      <td>False</td>\n      <td>Atlanta Falcons</td>\n      <td>36</td>\n      <td>28</td>\n      <td>San Francisco 49ers</td>\n      <td>Atlanta Falcons</td>\n      <td>-6.5</td>\n      <td>46.5</td>\n      <td>Georgia Dome</td>\n      <td>False</td>\n      <td>Atlanta Falcons</td>\n      <td>San Francisco 49ers</td>\n      <td>Home</td>\n      <td>True</td>\n      <td>Over</td>\n      <td>True</td>\n    </tr>\n    <tr>\n      <th>1</th>\n      <td>09/03/2000</td>\n      <td>2000</td>\n      <td>1</td>\n      <td>False</td>\n      <td>Buffalo Bills</td>\n      <td>16</td>\n      <td>13</td>\n      <td>Tennessee Titans</td>\n      <td>Buffalo Bills</td>\n      <td>-1.0</td>\n      <td>40</td>\n      <td>Ralph Wilson Stadium</td>\n      <td>False</td>\n      <td>Buffalo Bills</td>\n      <td>Tennessee Titans</td>\n      <td>Home</td>\n      <td>True</td>\n      <td>Under</td>\n      <td>True</td>\n    </tr>\n    <tr>\n      <th>2</th>\n      <td>09/03/2000</td>\n      <td>2000</td>\n      <td>1</td>\n      <td>False</td>\n      <td>Cleveland Browns</td>\n      <td>7</td>\n      <td>27</td>\n      <td>Jacksonville Jaguars</td>\n      <td>Jacksonville Jaguars</td>\n      <td>-10.5</td>\n      <td>38.5</td>\n      <td>FirstEnergy Stadium</td>\n      <td>False</td>\n      <td>Jacksonville Jaguars</td>\n      <td>Cleveland Browns</td>\n      <td>Away</td>\n      <td>True</td>\n      <td>Under</td>\n      <td>True</td>\n    </tr>\n    <tr>\n      <th>3</th>\n      <td>09/03/2000</td>\n      <td>2000</td>\n      <td>1</td>\n      <td>False</td>\n      <td>Dallas Cowboys</td>\n      <td>14</td>\n      <td>41</td>\n      <td>Philadelphia Eagles</td>\n      <td>Dallas Cowboys</td>\n      <td>-6.0</td>\n      <td>39.5</td>\n      <td>Texas Stadium</td>\n      <td>False</td>\n      <td>Philadelphia Eagles</td>\n      <td>Dallas Cowboys</td>\n      <td>Away</td>\n      <td>False</td>\n      <td>Over</td>\n      <td>False</td>\n    </tr>\n    <tr>\n      <th>4</th>\n      <td>09/03/2000</td>\n      <td>2000</td>\n      <td>1</td>\n      <td>False</td>\n      <td>Green Bay Packers</td>\n      <td>16</td>\n      <td>20</td>\n      <td>New York Jets</td>\n      <td>Green Bay Packers</td>\n      <td>-2.5</td>\n      <td>44</td>\n      <td>Lambeau Field</td>\n      <td>False</td>\n      <td>New York Jets</td>\n      <td>Green Bay Packers</td>\n      <td>Away</td>\n      <td>False</td>\n      <td>Under</td>\n      <td>False</td>\n    </tr>\n  </tbody>\n</table>\n</div>"
     },
     "metadata": {},
     "execution_count": 21
    }
   ],
   "source": [
    "scorelines_trimmed_df.head()"
   ]
  },
  {
   "cell_type": "markdown",
   "metadata": {},
   "source": [
    "After running all those calculations we check the dataframe to make sure it looks good. No errors have been thrown and our calculations seem to be correct at a glance. We'll determine more once we move fully into the exploratory data analysis phase.\n",
    "\n",
    "With that completed, it's time to export our cleaned and improved data so that we can analyze it and use it anywhere in our project. Keeping things in csv format seems the most convenient."
   ]
  },
  {
   "cell_type": "code",
   "execution_count": 22,
   "metadata": {},
   "outputs": [],
   "source": [
    "scorelines_trimmed_df.to_csv(\"output data/spreadspoke_scores_trimmed.csv\", index=False)"
   ]
  },
  {
   "cell_type": "markdown",
   "metadata": {},
   "source": [
    "# Further Analysis\n",
    "\n",
    "Below is an example of a calculation that could be useful in the future. This is data that doesn't work as a new column in the dataframe but examines a trend that would be ideal to graph.\n",
    "\n",
    "This data could be exported to a json file so it could be shared between notebooks, but it will be easier to just copy the cells in this case. We'll leave the example here as there's no reason to delete it.\n",
    "\n",
    "The full analysis is in its own notebook, as are the visualizations."
   ]
  },
  {
   "cell_type": "code",
   "execution_count": 23,
   "metadata": {},
   "outputs": [],
   "source": [
    "# Initialize an empty dictionary\n",
    "underdog_wins = {}"
   ]
  },
  {
   "cell_type": "code",
   "execution_count": 24,
   "metadata": {},
   "outputs": [],
   "source": [
    "# Iterate through the dataframe's rows to find cases where the favorite team didn't win (i.e. the underdog team won)\n",
    "for index, row in scorelines_trimmed_df.iterrows():\n",
    "    \n",
    "    if scorelines_trimmed_df.loc[index, 'fav_win'] == \"False\":\n",
    "        if scorelines_trimmed_df.loc[index, 'team_win'] not in underdog_wins: # if the underdog team isn't in the dictionary, add them and initialize their wins at 1\n",
    "            underdog_wins[scorelines_trimmed_df.loc[index, 'team_win']] = 1\n",
    "        else: # increment the underdog team's win count by 1\n",
    "            underdog_wins[scorelines_trimmed_df.loc[index, 'team_win']] += 1 "
   ]
  },
  {
   "cell_type": "code",
   "execution_count": 25,
   "metadata": {},
   "outputs": [
    {
     "output_type": "execute_result",
     "data": {
      "text/plain": "{'Philadelphia Eagles': 53,\n 'New York Jets': 65,\n 'Detroit Lions': 52,\n 'Cleveland Browns': 57,\n 'Oakland Raiders': 64,\n 'New York Giants': 57,\n 'New Orleans Saints': 53,\n 'Atlanta Falcons': 58,\n 'Miami Dolphins': 75,\n 'Minnesota Vikings': 57,\n 'Denver Broncos': 51,\n 'Dallas Cowboys': 51,\n 'Green Bay Packers': 45,\n 'San Francisco 49ers': 54,\n 'Kansas City Chiefs': 56,\n 'Washington Redskins': 74,\n 'Indianapolis Colts': 44,\n 'New England Patriots': 41,\n 'Chicago Bears': 62,\n 'Pittsburgh Steelers': 51,\n 'Baltimore Ravens': 52,\n 'Tennessee Titans': 62,\n 'Cincinnati Bengals': 62,\n 'Jacksonville Jaguars': 67,\n 'Arizona Cardinals': 69,\n 'Buffalo Bills': 62,\n 'Carolina Panthers': 62,\n 'Seattle Seahawks': 53,\n 'San Diego Chargers': 46,\n 'Tampa Bay Buccaneers': 59,\n 'Houston Texans': 52,\n 'St. Louis Rams': 40,\n 'Los Angeles Rams': 7,\n 'Los Angeles Chargers': 10}"
     },
     "metadata": {},
     "execution_count": 25
    }
   ],
   "source": [
    "# The dictionary now contains a count of every team's underdog wins over the past ~20 years.\n",
    "underdog_wins"
   ]
  }
 ],
 "metadata": {
  "file_extension": ".py",
  "kernelspec": {
   "display_name": "Python 3",
   "language": "python",
   "name": "python3"
  },
  "language_info": {
   "codemirror_mode": {
    "name": "ipython",
    "version": 3
   },
   "file_extension": ".py",
   "mimetype": "text/x-python",
   "name": "python",
   "nbconvert_exporter": "python",
   "pygments_lexer": "ipython3",
   "version": "3.7.4-final"
  },
  "mimetype": "text/x-python",
  "name": "python",
  "npconvert_exporter": "python",
  "pygments_lexer": "ipython3",
  "version": 3
 },
 "nbformat": 4,
 "nbformat_minor": 2
}