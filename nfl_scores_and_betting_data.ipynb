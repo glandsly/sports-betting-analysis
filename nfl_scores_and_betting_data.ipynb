{
 "nbformat": 4,
 "nbformat_minor": 2,
 "metadata": {
  "language_info": {
   "name": "python",
   "codemirror_mode": {
    "name": "ipython",
    "version": 3
   },
   "version": "3.7.4-final"
  },
  "orig_nbformat": 2,
  "file_extension": ".py",
  "mimetype": "text/x-python",
  "name": "python",
  "npconvert_exporter": "python",
  "pygments_lexer": "ipython3",
  "version": 3,
  "kernelspec": {
   "name": "python3",
   "display_name": "Python 3"
  }
 },
 "cells": [
  {
   "cell_type": "markdown",
   "execution_count": null,
   "metadata": {},
   "outputs": [],
   "source": [
    "# NFL Scores and Betting Data Cleaning"
   ]
  },
  {
   "cell_type": "code",
   "execution_count": 13,
   "metadata": {},
   "outputs": [],
   "source": [
    "# Dependencies and Setup\n",
    "import pandas as pd"
   ]
  },
  {
   "cell_type": "code",
   "execution_count": 14,
   "metadata": {},
   "outputs": [],
   "source": [
    "# stadium csv has an encoding issue, will resolve to fix but data is not vital - skipping for now\n",
    "# stadiums_df = pd.read_csv(\"raw data/nfl-scores-and-betting-data/nfl_stadiums.csv\") \n",
    "teams_df = pd.read_csv(\"raw data/nfl-scores-and-betting-data/nfl_teams.csv\")\n",
    "scorelines_df = pd.read_csv(\"raw data/nfl-scores-and-betting-data/spreadspoke_scores.csv\")"
   ]
  },
  {
   "cell_type": "code",
   "execution_count": 15,
   "metadata": {},
   "outputs": [
    {
     "output_type": "execute_result",
     "data": {
      "text/plain": "  schedule_date  schedule_season schedule_week  schedule_playoff  \\\n0    09/02/1966             1966             1             False   \n1    09/03/1966             1966             1             False   \n2    09/04/1966             1966             1             False   \n3    09/09/1966             1966             2             False   \n4    09/10/1966             1966             1             False   \n\n            team_home  score_home  score_away        team_away  \\\n0      Miami Dolphins          14          23  Oakland Raiders   \n1      Houston Oilers          45           7   Denver Broncos   \n2  San Diego Chargers          27           7    Buffalo Bills   \n3      Miami Dolphins          14          19    New York Jets   \n4   Green Bay Packers          24           3  Baltimore Colts   \n\n  team_favorite_id  spread_favorite over_under_line         stadium  \\\n0              NaN              NaN             NaN     Orange Bowl   \n1              NaN              NaN             NaN    Rice Stadium   \n2              NaN              NaN             NaN  Balboa Stadium   \n3              NaN              NaN             NaN     Orange Bowl   \n4              NaN              NaN             NaN   Lambeau Field   \n\n   stadium_neutral  weather_temperature  weather_wind_mph weather_humidity  \\\n0            False                 83.0               6.0               71   \n1            False                 81.0               7.0               70   \n2            False                 70.0               7.0               82   \n3            False                 82.0              11.0               78   \n4            False                 64.0               8.0               62   \n\n  weather_detail  \n0            NaN  \n1            NaN  \n2            NaN  \n3            NaN  \n4            NaN  ",
      "text/html": "<div>\n<style scoped>\n    .dataframe tbody tr th:only-of-type {\n        vertical-align: middle;\n    }\n\n    .dataframe tbody tr th {\n        vertical-align: top;\n    }\n\n    .dataframe thead th {\n        text-align: right;\n    }\n</style>\n<table border=\"1\" class=\"dataframe\">\n  <thead>\n    <tr style=\"text-align: right;\">\n      <th></th>\n      <th>schedule_date</th>\n      <th>schedule_season</th>\n      <th>schedule_week</th>\n      <th>schedule_playoff</th>\n      <th>team_home</th>\n      <th>score_home</th>\n      <th>score_away</th>\n      <th>team_away</th>\n      <th>team_favorite_id</th>\n      <th>spread_favorite</th>\n      <th>over_under_line</th>\n      <th>stadium</th>\n      <th>stadium_neutral</th>\n      <th>weather_temperature</th>\n      <th>weather_wind_mph</th>\n      <th>weather_humidity</th>\n      <th>weather_detail</th>\n    </tr>\n  </thead>\n  <tbody>\n    <tr>\n      <th>0</th>\n      <td>09/02/1966</td>\n      <td>1966</td>\n      <td>1</td>\n      <td>False</td>\n      <td>Miami Dolphins</td>\n      <td>14</td>\n      <td>23</td>\n      <td>Oakland Raiders</td>\n      <td>NaN</td>\n      <td>NaN</td>\n      <td>NaN</td>\n      <td>Orange Bowl</td>\n      <td>False</td>\n      <td>83.0</td>\n      <td>6.0</td>\n      <td>71</td>\n      <td>NaN</td>\n    </tr>\n    <tr>\n      <th>1</th>\n      <td>09/03/1966</td>\n      <td>1966</td>\n      <td>1</td>\n      <td>False</td>\n      <td>Houston Oilers</td>\n      <td>45</td>\n      <td>7</td>\n      <td>Denver Broncos</td>\n      <td>NaN</td>\n      <td>NaN</td>\n      <td>NaN</td>\n      <td>Rice Stadium</td>\n      <td>False</td>\n      <td>81.0</td>\n      <td>7.0</td>\n      <td>70</td>\n      <td>NaN</td>\n    </tr>\n    <tr>\n      <th>2</th>\n      <td>09/04/1966</td>\n      <td>1966</td>\n      <td>1</td>\n      <td>False</td>\n      <td>San Diego Chargers</td>\n      <td>27</td>\n      <td>7</td>\n      <td>Buffalo Bills</td>\n      <td>NaN</td>\n      <td>NaN</td>\n      <td>NaN</td>\n      <td>Balboa Stadium</td>\n      <td>False</td>\n      <td>70.0</td>\n      <td>7.0</td>\n      <td>82</td>\n      <td>NaN</td>\n    </tr>\n    <tr>\n      <th>3</th>\n      <td>09/09/1966</td>\n      <td>1966</td>\n      <td>2</td>\n      <td>False</td>\n      <td>Miami Dolphins</td>\n      <td>14</td>\n      <td>19</td>\n      <td>New York Jets</td>\n      <td>NaN</td>\n      <td>NaN</td>\n      <td>NaN</td>\n      <td>Orange Bowl</td>\n      <td>False</td>\n      <td>82.0</td>\n      <td>11.0</td>\n      <td>78</td>\n      <td>NaN</td>\n    </tr>\n    <tr>\n      <th>4</th>\n      <td>09/10/1966</td>\n      <td>1966</td>\n      <td>1</td>\n      <td>False</td>\n      <td>Green Bay Packers</td>\n      <td>24</td>\n      <td>3</td>\n      <td>Baltimore Colts</td>\n      <td>NaN</td>\n      <td>NaN</td>\n      <td>NaN</td>\n      <td>Lambeau Field</td>\n      <td>False</td>\n      <td>64.0</td>\n      <td>8.0</td>\n      <td>62</td>\n      <td>NaN</td>\n    </tr>\n  </tbody>\n</table>\n</div>"
     },
     "metadata": {},
     "execution_count": 15
    }
   ],
   "source": [
    "scorelines_df.head()"
   ]
  },
  {
   "cell_type": "code",
   "execution_count": 16,
   "metadata": {},
   "outputs": [
    {
     "output_type": "execute_result",
     "data": {
      "text/plain": "      schedule_date  schedule_season schedule_week  schedule_playoff  \\\n12673    01/12/2020             2019      Division              True   \n12674    01/12/2020             2019      Division              True   \n12675    01/19/2020             2019    Conference              True   \n12676    01/19/2020             2019    Conference              True   \n12677    02/02/2020             2019     Superbowl              True   \n\n                 team_home  score_home  score_away            team_away  \\\n12673    Green Bay Packers          28          23     Seattle Seahawks   \n12674   Kansas City Chiefs          51          31       Houston Texans   \n12675   Kansas City Chiefs          35          24     Tennessee Titans   \n12676  San Francisco 49ers          37          20    Green Bay Packers   \n12677   Kansas City Chiefs          31          20  San Francisco 49ers   \n\n      team_favorite_id  spread_favorite over_under_line            stadium  \\\n12673               GB             -4.5            45.5      Lambeau Field   \n12674               KC            -10.0            50.5  Arrowhead Stadium   \n12675               KC             -7.0              51  Arrowhead Stadium   \n12676               SF             -8.0            46.5     Levi's Stadium   \n12677               KC             -1.5              53  Hard Rock Stadium   \n\n       stadium_neutral  weather_temperature  weather_wind_mph  \\\n12673            False                  NaN               NaN   \n12674            False                  NaN               NaN   \n12675            False                  NaN               NaN   \n12676            False                  NaN               NaN   \n12677             True                  NaN               NaN   \n\n      weather_humidity weather_detail  \n12673              NaN            NaN  \n12674              NaN            NaN  \n12675              NaN            NaN  \n12676              NaN            NaN  \n12677              NaN            NaN  ",
      "text/html": "<div>\n<style scoped>\n    .dataframe tbody tr th:only-of-type {\n        vertical-align: middle;\n    }\n\n    .dataframe tbody tr th {\n        vertical-align: top;\n    }\n\n    .dataframe thead th {\n        text-align: right;\n    }\n</style>\n<table border=\"1\" class=\"dataframe\">\n  <thead>\n    <tr style=\"text-align: right;\">\n      <th></th>\n      <th>schedule_date</th>\n      <th>schedule_season</th>\n      <th>schedule_week</th>\n      <th>schedule_playoff</th>\n      <th>team_home</th>\n      <th>score_home</th>\n      <th>score_away</th>\n      <th>team_away</th>\n      <th>team_favorite_id</th>\n      <th>spread_favorite</th>\n      <th>over_under_line</th>\n      <th>stadium</th>\n      <th>stadium_neutral</th>\n      <th>weather_temperature</th>\n      <th>weather_wind_mph</th>\n      <th>weather_humidity</th>\n      <th>weather_detail</th>\n    </tr>\n  </thead>\n  <tbody>\n    <tr>\n      <th>12673</th>\n      <td>01/12/2020</td>\n      <td>2019</td>\n      <td>Division</td>\n      <td>True</td>\n      <td>Green Bay Packers</td>\n      <td>28</td>\n      <td>23</td>\n      <td>Seattle Seahawks</td>\n      <td>GB</td>\n      <td>-4.5</td>\n      <td>45.5</td>\n      <td>Lambeau Field</td>\n      <td>False</td>\n      <td>NaN</td>\n      <td>NaN</td>\n      <td>NaN</td>\n      <td>NaN</td>\n    </tr>\n    <tr>\n      <th>12674</th>\n      <td>01/12/2020</td>\n      <td>2019</td>\n      <td>Division</td>\n      <td>True</td>\n      <td>Kansas City Chiefs</td>\n      <td>51</td>\n      <td>31</td>\n      <td>Houston Texans</td>\n      <td>KC</td>\n      <td>-10.0</td>\n      <td>50.5</td>\n      <td>Arrowhead Stadium</td>\n      <td>False</td>\n      <td>NaN</td>\n      <td>NaN</td>\n      <td>NaN</td>\n      <td>NaN</td>\n    </tr>\n    <tr>\n      <th>12675</th>\n      <td>01/19/2020</td>\n      <td>2019</td>\n      <td>Conference</td>\n      <td>True</td>\n      <td>Kansas City Chiefs</td>\n      <td>35</td>\n      <td>24</td>\n      <td>Tennessee Titans</td>\n      <td>KC</td>\n      <td>-7.0</td>\n      <td>51</td>\n      <td>Arrowhead Stadium</td>\n      <td>False</td>\n      <td>NaN</td>\n      <td>NaN</td>\n      <td>NaN</td>\n      <td>NaN</td>\n    </tr>\n    <tr>\n      <th>12676</th>\n      <td>01/19/2020</td>\n      <td>2019</td>\n      <td>Conference</td>\n      <td>True</td>\n      <td>San Francisco 49ers</td>\n      <td>37</td>\n      <td>20</td>\n      <td>Green Bay Packers</td>\n      <td>SF</td>\n      <td>-8.0</td>\n      <td>46.5</td>\n      <td>Levi's Stadium</td>\n      <td>False</td>\n      <td>NaN</td>\n      <td>NaN</td>\n      <td>NaN</td>\n      <td>NaN</td>\n    </tr>\n    <tr>\n      <th>12677</th>\n      <td>02/02/2020</td>\n      <td>2019</td>\n      <td>Superbowl</td>\n      <td>True</td>\n      <td>Kansas City Chiefs</td>\n      <td>31</td>\n      <td>20</td>\n      <td>San Francisco 49ers</td>\n      <td>KC</td>\n      <td>-1.5</td>\n      <td>53</td>\n      <td>Hard Rock Stadium</td>\n      <td>True</td>\n      <td>NaN</td>\n      <td>NaN</td>\n      <td>NaN</td>\n      <td>NaN</td>\n    </tr>\n  </tbody>\n</table>\n</div>"
     },
     "metadata": {},
     "execution_count": 16
    }
   ],
   "source": [
    "scorelines_df.tail()"
   ]
  },
  {
   "cell_type": "code",
   "execution_count": 17,
   "metadata": {},
   "outputs": [],
   "source": [
    "scorelines_trimmed_df = scorelines_df[scorelines_df['schedule_season'] >= 2000]"
   ]
  },
  {
   "cell_type": "code",
   "execution_count": 18,
   "metadata": {},
   "outputs": [
    {
     "output_type": "execute_result",
     "data": {
      "text/plain": "     schedule_date  schedule_season schedule_week  schedule_playoff  \\\n7354    09/03/2000             2000             1             False   \n7355    09/03/2000             2000             1             False   \n7356    09/03/2000             2000             1             False   \n7357    09/03/2000             2000             1             False   \n7358    09/03/2000             2000             1             False   \n\n              team_home  score_home  score_away             team_away  \\\n7354    Atlanta Falcons          36          28   San Francisco 49ers   \n7355      Buffalo Bills          16          13      Tennessee Titans   \n7356   Cleveland Browns           7          27  Jacksonville Jaguars   \n7357     Dallas Cowboys          14          41   Philadelphia Eagles   \n7358  Green Bay Packers          16          20         New York Jets   \n\n     team_favorite_id  spread_favorite over_under_line               stadium  \\\n7354              ATL             -6.5            46.5          Georgia Dome   \n7355              BUF             -1.0              40  Ralph Wilson Stadium   \n7356              JAX            -10.5            38.5   FirstEnergy Stadium   \n7357              DAL             -6.0            39.5         Texas Stadium   \n7358               GB             -2.5              44         Lambeau Field   \n\n      stadium_neutral  weather_temperature  weather_wind_mph weather_humidity  \\\n7354            False                 72.0               0.0              NaN   \n7355            False                 70.0               7.0               82   \n7356            False                 75.0               8.0               86   \n7357            False                 95.0               7.0               32   \n7358            False                 69.0              13.0               87   \n\n     weather_detail  \n7354           DOME  \n7355            NaN  \n7356            NaN  \n7357            NaN  \n7358            NaN  ",
      "text/html": "<div>\n<style scoped>\n    .dataframe tbody tr th:only-of-type {\n        vertical-align: middle;\n    }\n\n    .dataframe tbody tr th {\n        vertical-align: top;\n    }\n\n    .dataframe thead th {\n        text-align: right;\n    }\n</style>\n<table border=\"1\" class=\"dataframe\">\n  <thead>\n    <tr style=\"text-align: right;\">\n      <th></th>\n      <th>schedule_date</th>\n      <th>schedule_season</th>\n      <th>schedule_week</th>\n      <th>schedule_playoff</th>\n      <th>team_home</th>\n      <th>score_home</th>\n      <th>score_away</th>\n      <th>team_away</th>\n      <th>team_favorite_id</th>\n      <th>spread_favorite</th>\n      <th>over_under_line</th>\n      <th>stadium</th>\n      <th>stadium_neutral</th>\n      <th>weather_temperature</th>\n      <th>weather_wind_mph</th>\n      <th>weather_humidity</th>\n      <th>weather_detail</th>\n    </tr>\n  </thead>\n  <tbody>\n    <tr>\n      <th>7354</th>\n      <td>09/03/2000</td>\n      <td>2000</td>\n      <td>1</td>\n      <td>False</td>\n      <td>Atlanta Falcons</td>\n      <td>36</td>\n      <td>28</td>\n      <td>San Francisco 49ers</td>\n      <td>ATL</td>\n      <td>-6.5</td>\n      <td>46.5</td>\n      <td>Georgia Dome</td>\n      <td>False</td>\n      <td>72.0</td>\n      <td>0.0</td>\n      <td>NaN</td>\n      <td>DOME</td>\n    </tr>\n    <tr>\n      <th>7355</th>\n      <td>09/03/2000</td>\n      <td>2000</td>\n      <td>1</td>\n      <td>False</td>\n      <td>Buffalo Bills</td>\n      <td>16</td>\n      <td>13</td>\n      <td>Tennessee Titans</td>\n      <td>BUF</td>\n      <td>-1.0</td>\n      <td>40</td>\n      <td>Ralph Wilson Stadium</td>\n      <td>False</td>\n      <td>70.0</td>\n      <td>7.0</td>\n      <td>82</td>\n      <td>NaN</td>\n    </tr>\n    <tr>\n      <th>7356</th>\n      <td>09/03/2000</td>\n      <td>2000</td>\n      <td>1</td>\n      <td>False</td>\n      <td>Cleveland Browns</td>\n      <td>7</td>\n      <td>27</td>\n      <td>Jacksonville Jaguars</td>\n      <td>JAX</td>\n      <td>-10.5</td>\n      <td>38.5</td>\n      <td>FirstEnergy Stadium</td>\n      <td>False</td>\n      <td>75.0</td>\n      <td>8.0</td>\n      <td>86</td>\n      <td>NaN</td>\n    </tr>\n    <tr>\n      <th>7357</th>\n      <td>09/03/2000</td>\n      <td>2000</td>\n      <td>1</td>\n      <td>False</td>\n      <td>Dallas Cowboys</td>\n      <td>14</td>\n      <td>41</td>\n      <td>Philadelphia Eagles</td>\n      <td>DAL</td>\n      <td>-6.0</td>\n      <td>39.5</td>\n      <td>Texas Stadium</td>\n      <td>False</td>\n      <td>95.0</td>\n      <td>7.0</td>\n      <td>32</td>\n      <td>NaN</td>\n    </tr>\n    <tr>\n      <th>7358</th>\n      <td>09/03/2000</td>\n      <td>2000</td>\n      <td>1</td>\n      <td>False</td>\n      <td>Green Bay Packers</td>\n      <td>16</td>\n      <td>20</td>\n      <td>New York Jets</td>\n      <td>GB</td>\n      <td>-2.5</td>\n      <td>44</td>\n      <td>Lambeau Field</td>\n      <td>False</td>\n      <td>69.0</td>\n      <td>13.0</td>\n      <td>87</td>\n      <td>NaN</td>\n    </tr>\n  </tbody>\n</table>\n</div>"
     },
     "metadata": {},
     "execution_count": 18
    }
   ],
   "source": [
    "scorelines_trimmed_df.head()"
   ]
  },
  {
   "cell_type": "code",
   "execution_count": 19,
   "metadata": {},
   "outputs": [],
   "source": [
    "scorelines_trimmed_df.reset_index(drop=True, inplace=True)"
   ]
  },
  {
   "cell_type": "code",
   "execution_count": 20,
   "metadata": {},
   "outputs": [
    {
     "output_type": "execute_result",
     "data": {
      "text/plain": "  schedule_date  schedule_season schedule_week  schedule_playoff  \\\n0    09/03/2000             2000             1             False   \n1    09/03/2000             2000             1             False   \n2    09/03/2000             2000             1             False   \n3    09/03/2000             2000             1             False   \n4    09/03/2000             2000             1             False   \n\n           team_home  score_home  score_away             team_away  \\\n0    Atlanta Falcons          36          28   San Francisco 49ers   \n1      Buffalo Bills          16          13      Tennessee Titans   \n2   Cleveland Browns           7          27  Jacksonville Jaguars   \n3     Dallas Cowboys          14          41   Philadelphia Eagles   \n4  Green Bay Packers          16          20         New York Jets   \n\n  team_favorite_id  spread_favorite over_under_line               stadium  \\\n0              ATL             -6.5            46.5          Georgia Dome   \n1              BUF             -1.0              40  Ralph Wilson Stadium   \n2              JAX            -10.5            38.5   FirstEnergy Stadium   \n3              DAL             -6.0            39.5         Texas Stadium   \n4               GB             -2.5              44         Lambeau Field   \n\n   stadium_neutral  weather_temperature  weather_wind_mph weather_humidity  \\\n0            False                 72.0               0.0              NaN   \n1            False                 70.0               7.0               82   \n2            False                 75.0               8.0               86   \n3            False                 95.0               7.0               32   \n4            False                 69.0              13.0               87   \n\n  weather_detail  \n0           DOME  \n1            NaN  \n2            NaN  \n3            NaN  \n4            NaN  ",
      "text/html": "<div>\n<style scoped>\n    .dataframe tbody tr th:only-of-type {\n        vertical-align: middle;\n    }\n\n    .dataframe tbody tr th {\n        vertical-align: top;\n    }\n\n    .dataframe thead th {\n        text-align: right;\n    }\n</style>\n<table border=\"1\" class=\"dataframe\">\n  <thead>\n    <tr style=\"text-align: right;\">\n      <th></th>\n      <th>schedule_date</th>\n      <th>schedule_season</th>\n      <th>schedule_week</th>\n      <th>schedule_playoff</th>\n      <th>team_home</th>\n      <th>score_home</th>\n      <th>score_away</th>\n      <th>team_away</th>\n      <th>team_favorite_id</th>\n      <th>spread_favorite</th>\n      <th>over_under_line</th>\n      <th>stadium</th>\n      <th>stadium_neutral</th>\n      <th>weather_temperature</th>\n      <th>weather_wind_mph</th>\n      <th>weather_humidity</th>\n      <th>weather_detail</th>\n    </tr>\n  </thead>\n  <tbody>\n    <tr>\n      <th>0</th>\n      <td>09/03/2000</td>\n      <td>2000</td>\n      <td>1</td>\n      <td>False</td>\n      <td>Atlanta Falcons</td>\n      <td>36</td>\n      <td>28</td>\n      <td>San Francisco 49ers</td>\n      <td>ATL</td>\n      <td>-6.5</td>\n      <td>46.5</td>\n      <td>Georgia Dome</td>\n      <td>False</td>\n      <td>72.0</td>\n      <td>0.0</td>\n      <td>NaN</td>\n      <td>DOME</td>\n    </tr>\n    <tr>\n      <th>1</th>\n      <td>09/03/2000</td>\n      <td>2000</td>\n      <td>1</td>\n      <td>False</td>\n      <td>Buffalo Bills</td>\n      <td>16</td>\n      <td>13</td>\n      <td>Tennessee Titans</td>\n      <td>BUF</td>\n      <td>-1.0</td>\n      <td>40</td>\n      <td>Ralph Wilson Stadium</td>\n      <td>False</td>\n      <td>70.0</td>\n      <td>7.0</td>\n      <td>82</td>\n      <td>NaN</td>\n    </tr>\n    <tr>\n      <th>2</th>\n      <td>09/03/2000</td>\n      <td>2000</td>\n      <td>1</td>\n      <td>False</td>\n      <td>Cleveland Browns</td>\n      <td>7</td>\n      <td>27</td>\n      <td>Jacksonville Jaguars</td>\n      <td>JAX</td>\n      <td>-10.5</td>\n      <td>38.5</td>\n      <td>FirstEnergy Stadium</td>\n      <td>False</td>\n      <td>75.0</td>\n      <td>8.0</td>\n      <td>86</td>\n      <td>NaN</td>\n    </tr>\n    <tr>\n      <th>3</th>\n      <td>09/03/2000</td>\n      <td>2000</td>\n      <td>1</td>\n      <td>False</td>\n      <td>Dallas Cowboys</td>\n      <td>14</td>\n      <td>41</td>\n      <td>Philadelphia Eagles</td>\n      <td>DAL</td>\n      <td>-6.0</td>\n      <td>39.5</td>\n      <td>Texas Stadium</td>\n      <td>False</td>\n      <td>95.0</td>\n      <td>7.0</td>\n      <td>32</td>\n      <td>NaN</td>\n    </tr>\n    <tr>\n      <th>4</th>\n      <td>09/03/2000</td>\n      <td>2000</td>\n      <td>1</td>\n      <td>False</td>\n      <td>Green Bay Packers</td>\n      <td>16</td>\n      <td>20</td>\n      <td>New York Jets</td>\n      <td>GB</td>\n      <td>-2.5</td>\n      <td>44</td>\n      <td>Lambeau Field</td>\n      <td>False</td>\n      <td>69.0</td>\n      <td>13.0</td>\n      <td>87</td>\n      <td>NaN</td>\n    </tr>\n  </tbody>\n</table>\n</div>"
     },
     "metadata": {},
     "execution_count": 20
    }
   ],
   "source": [
    "scorelines_trimmed_df.head()"
   ]
  },
  {
   "cell_type": "code",
   "execution_count": 21,
   "metadata": {},
   "outputs": [],
   "source": [
    "scorelines_trimmed_df.drop(['weather_temperature', 'weather_wind_mph', 'weather_humidity', 'weather_detail'], axis=1, inplace=True)"
   ]
  },
  {
   "cell_type": "code",
   "execution_count": 22,
   "metadata": {},
   "outputs": [
    {
     "output_type": "execute_result",
     "data": {
      "text/plain": "  schedule_date  schedule_season schedule_week  schedule_playoff  \\\n0    09/03/2000             2000             1             False   \n1    09/03/2000             2000             1             False   \n2    09/03/2000             2000             1             False   \n3    09/03/2000             2000             1             False   \n4    09/03/2000             2000             1             False   \n\n           team_home  score_home  score_away             team_away  \\\n0    Atlanta Falcons          36          28   San Francisco 49ers   \n1      Buffalo Bills          16          13      Tennessee Titans   \n2   Cleveland Browns           7          27  Jacksonville Jaguars   \n3     Dallas Cowboys          14          41   Philadelphia Eagles   \n4  Green Bay Packers          16          20         New York Jets   \n\n  team_favorite_id  spread_favorite over_under_line               stadium  \\\n0              ATL             -6.5            46.5          Georgia Dome   \n1              BUF             -1.0              40  Ralph Wilson Stadium   \n2              JAX            -10.5            38.5   FirstEnergy Stadium   \n3              DAL             -6.0            39.5         Texas Stadium   \n4               GB             -2.5              44         Lambeau Field   \n\n   stadium_neutral  \n0            False  \n1            False  \n2            False  \n3            False  \n4            False  ",
      "text/html": "<div>\n<style scoped>\n    .dataframe tbody tr th:only-of-type {\n        vertical-align: middle;\n    }\n\n    .dataframe tbody tr th {\n        vertical-align: top;\n    }\n\n    .dataframe thead th {\n        text-align: right;\n    }\n</style>\n<table border=\"1\" class=\"dataframe\">\n  <thead>\n    <tr style=\"text-align: right;\">\n      <th></th>\n      <th>schedule_date</th>\n      <th>schedule_season</th>\n      <th>schedule_week</th>\n      <th>schedule_playoff</th>\n      <th>team_home</th>\n      <th>score_home</th>\n      <th>score_away</th>\n      <th>team_away</th>\n      <th>team_favorite_id</th>\n      <th>spread_favorite</th>\n      <th>over_under_line</th>\n      <th>stadium</th>\n      <th>stadium_neutral</th>\n    </tr>\n  </thead>\n  <tbody>\n    <tr>\n      <th>0</th>\n      <td>09/03/2000</td>\n      <td>2000</td>\n      <td>1</td>\n      <td>False</td>\n      <td>Atlanta Falcons</td>\n      <td>36</td>\n      <td>28</td>\n      <td>San Francisco 49ers</td>\n      <td>ATL</td>\n      <td>-6.5</td>\n      <td>46.5</td>\n      <td>Georgia Dome</td>\n      <td>False</td>\n    </tr>\n    <tr>\n      <th>1</th>\n      <td>09/03/2000</td>\n      <td>2000</td>\n      <td>1</td>\n      <td>False</td>\n      <td>Buffalo Bills</td>\n      <td>16</td>\n      <td>13</td>\n      <td>Tennessee Titans</td>\n      <td>BUF</td>\n      <td>-1.0</td>\n      <td>40</td>\n      <td>Ralph Wilson Stadium</td>\n      <td>False</td>\n    </tr>\n    <tr>\n      <th>2</th>\n      <td>09/03/2000</td>\n      <td>2000</td>\n      <td>1</td>\n      <td>False</td>\n      <td>Cleveland Browns</td>\n      <td>7</td>\n      <td>27</td>\n      <td>Jacksonville Jaguars</td>\n      <td>JAX</td>\n      <td>-10.5</td>\n      <td>38.5</td>\n      <td>FirstEnergy Stadium</td>\n      <td>False</td>\n    </tr>\n    <tr>\n      <th>3</th>\n      <td>09/03/2000</td>\n      <td>2000</td>\n      <td>1</td>\n      <td>False</td>\n      <td>Dallas Cowboys</td>\n      <td>14</td>\n      <td>41</td>\n      <td>Philadelphia Eagles</td>\n      <td>DAL</td>\n      <td>-6.0</td>\n      <td>39.5</td>\n      <td>Texas Stadium</td>\n      <td>False</td>\n    </tr>\n    <tr>\n      <th>4</th>\n      <td>09/03/2000</td>\n      <td>2000</td>\n      <td>1</td>\n      <td>False</td>\n      <td>Green Bay Packers</td>\n      <td>16</td>\n      <td>20</td>\n      <td>New York Jets</td>\n      <td>GB</td>\n      <td>-2.5</td>\n      <td>44</td>\n      <td>Lambeau Field</td>\n      <td>False</td>\n    </tr>\n  </tbody>\n</table>\n</div>"
     },
     "metadata": {},
     "execution_count": 22
    }
   ],
   "source": [
    "scorelines_trimmed_df.head()"
   ]
  },
  {
   "cell_type": "code",
   "execution_count": 23,
   "metadata": {},
   "outputs": [],
   "source": [
    "scorelines_trimmed_df.to_csv(\"output data/spreadspoke_scores_trimmed.csv\", index=False)"
   ]
  },
  {
   "cell_type": "code",
   "execution_count": null,
   "metadata": {},
   "outputs": [],
   "source": []
  }
 ]
}