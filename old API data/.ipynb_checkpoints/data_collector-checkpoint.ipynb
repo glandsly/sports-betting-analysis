{
 "cells": [
  {
   "cell_type": "code",
   "execution_count": 2,
   "metadata": {},
   "outputs": [],
   "source": [
    "from keys import odds_api_key\n",
    "import pandas as pd\n",
    "import requests\n",
    "import json"
   ]
  },
  {
   "cell_type": "code",
   "execution_count": 3,
   "metadata": {},
   "outputs": [],
   "source": [
    "#Defines oddsAPI base url and apikey\n",
    "url = \"https://api.the-odds-api.com/v3/sports/\"\n",
    "\n",
    "params = {\n",
    "    'apiKey': odds_api_key,\n",
    "}"
   ]
  },
  {
   "cell_type": "code",
   "execution_count": 4,
   "metadata": {},
   "outputs": [],
   "source": [
    "#Grabs a list of all active sports\n",
    "sport_response = requests.get(url,params).json()"
   ]
  },
  {
   "cell_type": "code",
   "execution_count": 5,
   "metadata": {},
   "outputs": [
    {
     "name": "stdout",
     "output_type": "stream",
     "text": [
      "{\n",
      "    \"data\": [\n",
      "        {\n",
      "            \"active\": true,\n",
      "            \"details\": \"US College Football\",\n",
      "            \"group\": \"American Football\",\n",
      "            \"has_outrights\": false,\n",
      "            \"key\": \"americanfootball_ncaaf\",\n",
      "            \"title\": \"NCAAF\"\n",
      "        },\n",
      "        {\n",
      "            \"active\": true,\n",
      "            \"details\": \"US Football\",\n",
      "            \"group\": \"American Football\",\n",
      "            \"has_outrights\": false,\n",
      "            \"key\": \"americanfootball_nfl\",\n",
      "            \"title\": \"NFL\"\n",
      "        },\n",
      "        {\n",
      "            \"active\": true,\n",
      "            \"details\": \"Mixed Martial Arts\",\n",
      "            \"group\": \"Mixed Martial Arts\",\n",
      "            \"has_outrights\": false,\n",
      "            \"key\": \"mma_mixed_martial_arts\",\n",
      "            \"title\": \"MMA\"\n",
      "        },\n",
      "        {\n",
      "            \"active\": true,\n",
      "            \"details\": \"Swedish Soccer \\ud83c\\uddf8\\ud83c\\uddea\",\n",
      "            \"group\": \"Soccer - Europe\",\n",
      "            \"has_outrights\": false,\n",
      "            \"key\": \"soccer_sweden_allsvenskan\",\n",
      "            \"title\": \"Allsvenskan - Sweden\"\n",
      "        },\n",
      "        {\n",
      "            \"active\": true,\n",
      "            \"details\": \"Swedish Soccer \\ud83c\\uddf8\\ud83c\\uddea\",\n",
      "            \"group\": \"Soccer - Europe\",\n",
      "            \"has_outrights\": false,\n",
      "            \"key\": \"soccer_sweden_superettan\",\n",
      "            \"title\": \"Superettan - Sweden\"\n",
      "        }\n",
      "    ],\n",
      "    \"success\": true\n",
      "}\n"
     ]
    }
   ],
   "source": [
    "#Example of the sports call\n",
    "print(json.dumps(sport_response,indent = 4,sort_keys=True))"
   ]
  },
  {
   "cell_type": "code",
   "execution_count": 6,
   "metadata": {},
   "outputs": [
    {
     "data": {
      "text/plain": [
       "[['americanfootball_ncaaf', 'NCAAF'],\n",
       " ['americanfootball_nfl', 'NFL'],\n",
       " ['mma_mixed_martial_arts', 'MMA'],\n",
       " ['soccer_sweden_allsvenskan', 'Allsvenskan - Sweden'],\n",
       " ['soccer_sweden_superettan', 'Superettan - Sweden']]"
      ]
     },
     "execution_count": 6,
     "metadata": {},
     "output_type": "execute_result"
    }
   ],
   "source": [
    "#Grabs all of the keys and league names for active sports\n",
    "sport_keys = [[sport['key'],sport['title']] for sport in sport_response['data']]\n",
    "sport_keys"
   ]
  },
  {
   "cell_type": "code",
   "execution_count": 7,
   "metadata": {},
   "outputs": [],
   "source": [
    "#Valid regions are au (Australia), uk (United Kingdom), eu (Europe) and us (United States) as defined in the API documentation\n",
    "valid_regions = ['au','uk','eu','us']"
   ]
  },
  {
   "cell_type": "code",
   "execution_count": 8,
   "metadata": {},
   "outputs": [],
   "source": [
    "#Resets the base URL to grab the odds rather than sports\n",
    "url = \"https://api.the-odds-api.com/v3/odds/?\""
   ]
  },
  {
   "cell_type": "code",
   "execution_count": 9,
   "metadata": {},
   "outputs": [
    {
     "name": "stdout",
     "output_type": "stream",
     "text": [
      "{\n",
      "    \"commence_time\": 1598716800,\n",
      "    \"home_team\": \"Notre Dame Fighting Irish\",\n",
      "    \"sites\": [\n",
      "        {\n",
      "            \"last_update\": 1585008714,\n",
      "            \"odds\": {\n",
      "                \"h2h\": [\n",
      "                    7.5,\n",
      "                    1.08\n",
      "                ]\n",
      "            },\n",
      "            \"site_key\": \"unibet\",\n",
      "            \"site_nice\": \"Unibet\"\n",
      "        },\n",
      "        {\n",
      "            \"last_update\": 1585008171,\n",
      "            \"odds\": {\n",
      "                \"h2h\": [\n",
      "                    7.5,\n",
      "                    1.07\n",
      "                ]\n",
      "            },\n",
      "            \"site_key\": \"sport888\",\n",
      "            \"site_nice\": \"888sport\"\n",
      "        }\n",
      "    ],\n",
      "    \"sites_count\": 2,\n",
      "    \"sport_key\": \"americanfootball_ncaaf\",\n",
      "    \"sport_nice\": \"NCAAF\",\n",
      "    \"teams\": [\n",
      "        \"Navy Midshipmen\",\n",
      "        \"Notre Dame Fighting Irish\"\n",
      "    ]\n",
      "}\n"
     ]
    }
   ],
   "source": [
    "#Example of api call\n",
    "af_response = requests.get('https://api.the-odds-api.com/v3/odds/?apiKey=920f0271190cc565b272c9b3050543e1&sport=americanfootball_ncaaf&region=eu').json()\n",
    "print(json.dumps(af_response['data'][0],indent=4,sort_keys=True))"
   ]
  },
  {
   "cell_type": "code",
   "execution_count": 10,
   "metadata": {},
   "outputs": [],
   "source": [
    "#Defines the output lists for the dataframe\n",
    "leagues = []\n",
    "regions = []\n",
    "home_teams = []\n",
    "away_teams = []\n",
    "commence_times = []\n",
    "unibet_odds = []\n",
    "_888sport_odds = []\n",
    "marathon_odds = []\n",
    "betonline_odds = []\n",
    "mybookie_odds = []\n",
    "betfair_odds = []"
   ]
  },
  {
   "cell_type": "code",
   "execution_count": 11,
   "metadata": {},
   "outputs": [],
   "source": [
    "#Function that checks if the two betting site names passed match and appends the passed odds to the list that is passed.\n",
    "#It will add a blank to the passed list if not to make sure the lists are the same length\n",
    "def sitecheck(name,site_nice,site_odds,site_list):\n",
    "    if name == site_nice:\n",
    "        site_list.append(site_odds)\n",
    "    else:\n",
    "        site_list.append(\"\")"
   ]
  },
  {
   "cell_type": "code",
   "execution_count": 12,
   "metadata": {},
   "outputs": [],
   "source": [
    "#Loops through all sport keys/leagues\n",
    "for sport, league in sport_keys:\n",
    "    \n",
    "    #Sets the sport paramater for the url\n",
    "    params['sport'] = sport\n",
    "    \n",
    "    #Loops through all valid regions\n",
    "    for region in valid_regions:\n",
    "        \n",
    "        #Sets the region parameter for the url\n",
    "        params['region'] = region\n",
    "        response = requests.get(url,params).json()\n",
    "        \n",
    "        #Gets a list games in the current sport/region and loop through them\n",
    "        games = response['data']\n",
    "        for game in games:\n",
    "            \n",
    "            #Loops through all betting sites for that current game\n",
    "            for site in game['sites']:\n",
    "                \n",
    "                #Appends output values to their respective lists\n",
    "                leagues.append(game['sport_nice'])\n",
    "                regions.append(region)\n",
    "                home_teams.append(game['teams'][1])\n",
    "                away_teams.append(game['teams'][0])\n",
    "                commence_times.append(game['commence_time'])\n",
    "                \n",
    "                #Appends odds to their respective lists and blanks where there are no values\n",
    "                sitecheck('Unibet',site['site_nice'],site['odds']['h2h'],unibet_odds)\n",
    "                sitecheck('888sport',site['site_nice'],site['odds']['h2h'],_888sport_odds)\n",
    "                sitecheck('Marathon Bet',site['site_nice'],site['odds']['h2h'],marathon_odds)\n",
    "                sitecheck('BetOnline.ag',site['site_nice'],site['odds']['h2h'],betonline_odds)\n",
    "                sitecheck('MyBookie.ag',site['site_nice'],site['odds']['h2h'],mybookie_odds)\n",
    "                sitecheck('Betfair',site['site_nice'],site['odds']['h2h'],betfair_odds)"
   ]
  },
  {
   "cell_type": "code",
   "execution_count": 13,
   "metadata": {},
   "outputs": [
    {
     "data": {
      "text/html": [
       "<div>\n",
       "<style scoped>\n",
       "    .dataframe tbody tr th:only-of-type {\n",
       "        vertical-align: middle;\n",
       "    }\n",
       "\n",
       "    .dataframe tbody tr th {\n",
       "        vertical-align: top;\n",
       "    }\n",
       "\n",
       "    .dataframe thead th {\n",
       "        text-align: right;\n",
       "    }\n",
       "</style>\n",
       "<table border=\"1\" class=\"dataframe\">\n",
       "  <thead>\n",
       "    <tr style=\"text-align: right;\">\n",
       "      <th></th>\n",
       "      <th>League</th>\n",
       "      <th>Region</th>\n",
       "      <th>Home Team</th>\n",
       "      <th>Away Team</th>\n",
       "      <th>Commence Times</th>\n",
       "      <th>Unibet H2H Odds</th>\n",
       "      <th>888sport H2H Odds</th>\n",
       "      <th>Marathon Bet H2H Odds</th>\n",
       "      <th>BetOnline.ag H2H Odds</th>\n",
       "      <th>MyBookie.ag H2H Odds</th>\n",
       "      <th>Betfair H2H Odds</th>\n",
       "    </tr>\n",
       "  </thead>\n",
       "  <tbody>\n",
       "    <tr>\n",
       "      <td>0</td>\n",
       "      <td>NCAAF</td>\n",
       "      <td>au</td>\n",
       "      <td>Notre Dame Fighting Irish</td>\n",
       "      <td>Navy Midshipmen</td>\n",
       "      <td>1598716800</td>\n",
       "      <td>[7.5, 1.08]</td>\n",
       "      <td></td>\n",
       "      <td></td>\n",
       "      <td></td>\n",
       "      <td></td>\n",
       "      <td></td>\n",
       "    </tr>\n",
       "    <tr>\n",
       "      <td>1</td>\n",
       "      <td>NCAAF</td>\n",
       "      <td>au</td>\n",
       "      <td>Utah Utes</td>\n",
       "      <td>BYU Cougars</td>\n",
       "      <td>1599148800</td>\n",
       "      <td>[2.65, 1.47]</td>\n",
       "      <td></td>\n",
       "      <td></td>\n",
       "      <td></td>\n",
       "      <td></td>\n",
       "      <td></td>\n",
       "    </tr>\n",
       "    <tr>\n",
       "      <td>2</td>\n",
       "      <td>NCAAF</td>\n",
       "      <td>au</td>\n",
       "      <td>USC Trojans</td>\n",
       "      <td>Alabama Crimson Tide</td>\n",
       "      <td>1599321600</td>\n",
       "      <td>[1.12, 6.0]</td>\n",
       "      <td></td>\n",
       "      <td></td>\n",
       "      <td></td>\n",
       "      <td></td>\n",
       "      <td></td>\n",
       "    </tr>\n",
       "    <tr>\n",
       "      <td>3</td>\n",
       "      <td>NCAAF</td>\n",
       "      <td>au</td>\n",
       "      <td>Washington Huskies</td>\n",
       "      <td>Michigan Wolverines</td>\n",
       "      <td>1599321600</td>\n",
       "      <td>[1.76, 2.04]</td>\n",
       "      <td></td>\n",
       "      <td></td>\n",
       "      <td></td>\n",
       "      <td></td>\n",
       "      <td></td>\n",
       "    </tr>\n",
       "    <tr>\n",
       "      <td>4</td>\n",
       "      <td>NCAAF</td>\n",
       "      <td>au</td>\n",
       "      <td>Texas Longhorns</td>\n",
       "      <td>LSU Tigers</td>\n",
       "      <td>1599926400</td>\n",
       "      <td>[1.47, 2.65]</td>\n",
       "      <td></td>\n",
       "      <td></td>\n",
       "      <td></td>\n",
       "      <td></td>\n",
       "      <td></td>\n",
       "    </tr>\n",
       "  </tbody>\n",
       "</table>\n",
       "</div>"
      ],
      "text/plain": [
       "  League Region                  Home Team             Away Team  \\\n",
       "0  NCAAF     au  Notre Dame Fighting Irish       Navy Midshipmen   \n",
       "1  NCAAF     au                  Utah Utes           BYU Cougars   \n",
       "2  NCAAF     au                USC Trojans  Alabama Crimson Tide   \n",
       "3  NCAAF     au         Washington Huskies   Michigan Wolverines   \n",
       "4  NCAAF     au            Texas Longhorns            LSU Tigers   \n",
       "\n",
       "   Commence Times Unibet H2H Odds 888sport H2H Odds Marathon Bet H2H Odds  \\\n",
       "0      1598716800     [7.5, 1.08]                                           \n",
       "1      1599148800    [2.65, 1.47]                                           \n",
       "2      1599321600     [1.12, 6.0]                                           \n",
       "3      1599321600    [1.76, 2.04]                                           \n",
       "4      1599926400    [1.47, 2.65]                                           \n",
       "\n",
       "  BetOnline.ag H2H Odds MyBookie.ag H2H Odds Betfair H2H Odds  \n",
       "0                                                              \n",
       "1                                                              \n",
       "2                                                              \n",
       "3                                                              \n",
       "4                                                              "
      ]
     },
     "execution_count": 13,
     "metadata": {},
     "output_type": "execute_result"
    }
   ],
   "source": [
    "#Creates a dataframe from the output lists\n",
    "df = pd.DataFrame({'League':leagues,\n",
    "                   'Region':regions,\n",
    "                   'Home Team':home_teams,\n",
    "                   'Away Team':away_teams,\n",
    "                   'Commence Times':commence_times,\n",
    "                   'Unibet H2H Odds':unibet_odds,\n",
    "                   '888sport H2H Odds':_888sport_odds,\n",
    "                   'Marathon Bet H2H Odds':marathon_odds,\n",
    "                   'BetOnline.ag H2H Odds':betonline_odds,\n",
    "                   'MyBookie.ag H2H Odds':mybookie_odds,\n",
    "                   'Betfair H2H Odds':betfair_odds})\n",
    "df.head()"
   ]
  },
  {
   "cell_type": "code",
   "execution_count": 14,
   "metadata": {},
   "outputs": [],
   "source": [
    "#Writes the dataframe to a csv file\n",
    "df.to_csv(\"OddsAPI_data.csv\")"
   ]
  }
 ],
 "metadata": {
  "kernelspec": {
   "display_name": "Python 3",
   "language": "python",
   "name": "python3"
  },
  "language_info": {
   "codemirror_mode": {
    "name": "ipython",
    "version": 3
   },
   "file_extension": ".py",
   "mimetype": "text/x-python",
   "name": "python",
   "nbconvert_exporter": "python",
   "pygments_lexer": "ipython3",
   "version": "3.7.4"
  }
 },
 "nbformat": 4,
 "nbformat_minor": 2
}
