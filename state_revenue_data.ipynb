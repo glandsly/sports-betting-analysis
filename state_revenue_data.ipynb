{
 "nbformat": 4,
 "nbformat_minor": 2,
 "metadata": {
  "language_info": {
   "name": "python",
   "codemirror_mode": {
    "name": "ipython",
    "version": 3
   },
   "version": "3.7.4-final"
  },
  "orig_nbformat": 2,
  "file_extension": ".py",
  "mimetype": "text/x-python",
  "name": "python",
  "npconvert_exporter": "python",
  "pygments_lexer": "ipython3",
  "version": 3,
  "kernelspec": {
   "name": "python3",
   "display_name": "Python 3"
  }
 },
 "cells": [
  {
   "cell_type": "markdown",
   "execution_count": null,
   "metadata": {},
   "outputs": [],
   "source": [
    "# Sports Betting Revenue By State"
   ]
  },
  {
   "cell_type": "code",
   "execution_count": 1,
   "metadata": {},
   "outputs": [],
   "source": [
    "# Dependencies and Setup\n",
    "import pandas as pd\n",
    "from functools import reduce"
   ]
  },
  {
   "cell_type": "code",
   "execution_count": 2,
   "metadata": {},
   "outputs": [],
   "source": [
    "delaware_df = pd.read_csv(\"Raw Data/Delaware Sports Betting.csv\")\n",
    "indiana_df = pd.read_csv(\"Raw Data/Indiana Sports Betting.csv\")\n",
    "iowa_df = pd.read_csv(\"Raw Data/Iowa Sports Betting.csv\")\n",
    "mississippi_df = pd.read_csv(\"Raw Data/Mississippi Sports Betting.csv\")\n",
    "nevada_df = pd.read_csv(\"Raw Data/Nevada Sports Betting.csv\")\n",
    "new_jersey_df = pd.read_csv(\"Raw Data/NJ Sports Betting.csv\")\n",
    "new_york_df = pd.read_csv(\"Raw Data/NY Sports Betting.csv\")\n",
    "oregon_df = pd.read_csv(\"Raw Data/Oregon Sports Betting.csv\")\n",
    "pennsylvania_df = pd.read_csv(\"Raw Data/Penn Sports Betting.csv\")\n",
    "rhode_island_df = pd.read_csv(\"Raw Data/RI Sports Betting.csv\")\n",
    "west_virginia_df = pd.read_csv(\"Raw Data/West Virginia Sports Betting.csv\")"
   ]
  },
  {
   "cell_type": "code",
   "execution_count": 3,
   "metadata": {},
   "outputs": [
    {
     "data": {
      "text/html": "<div>\n<style scoped>\n    .dataframe tbody tr th:only-of-type {\n        vertical-align: middle;\n    }\n\n    .dataframe tbody tr th {\n        vertical-align: top;\n    }\n\n    .dataframe thead th {\n        text-align: right;\n    }\n</style>\n<table border=\"1\" class=\"dataframe\">\n  <thead>\n    <tr style=\"text-align: right;\">\n      <th></th>\n      <th>State</th>\n      <th>Date</th>\n      <th>Handle</th>\n      <th>Revenue</th>\n      <th>Hold</th>\n      <th>Taxes</th>\n    </tr>\n  </thead>\n  <tbody>\n    <tr>\n      <td>0</td>\n      <td>NJ</td>\n      <td>18-Jun</td>\n      <td>$16,409,619</td>\n      <td>$3,458,668</td>\n      <td>21.10%</td>\n      <td>$337,077</td>\n    </tr>\n    <tr>\n      <td>1</td>\n      <td>NJ</td>\n      <td>18-Jul</td>\n      <td>$40,682,237</td>\n      <td>$3,845,880</td>\n      <td>9.50%</td>\n      <td>$377,015</td>\n    </tr>\n    <tr>\n      <td>2</td>\n      <td>NJ</td>\n      <td>18-Aug</td>\n      <td>$95,634,048</td>\n      <td>$9,198,272</td>\n      <td>9.60%</td>\n      <td>$1,038,073</td>\n    </tr>\n    <tr>\n      <td>3</td>\n      <td>NJ</td>\n      <td>18-Sep</td>\n      <td>$183,948,404</td>\n      <td>$23,775,366</td>\n      <td>12.90%</td>\n      <td>$2,883,517</td>\n    </tr>\n    <tr>\n      <td>4</td>\n      <td>NJ</td>\n      <td>18-Oct</td>\n      <td>$260,711,301</td>\n      <td>$11,686,119</td>\n      <td>4.50%</td>\n      <td>$1,536,282</td>\n    </tr>\n  </tbody>\n</table>\n</div>",
      "text/plain": "  State    Date         Handle       Revenue    Hold        Taxes\n0    NJ  18-Jun   $16,409,619    $3,458,668   21.10%    $337,077 \n1    NJ  18-Jul   $40,682,237    $3,845,880    9.50%    $377,015 \n2    NJ  18-Aug   $95,634,048    $9,198,272    9.60%  $1,038,073 \n3    NJ  18-Sep  $183,948,404   $23,775,366   12.90%  $2,883,517 \n4    NJ  18-Oct  $260,711,301   $11,686,119    4.50%  $1,536,282 "
     },
     "execution_count": 3,
     "metadata": {},
     "output_type": "execute_result"
    }
   ],
   "source": [
    "new_jersey_df.head()"
   ]
  },
  {
   "cell_type": "code",
   "execution_count": 4,
   "metadata": {},
   "outputs": [],
   "source": [
    "state_dfs = [delaware_df, indiana_df, iowa_df, mississippi_df, nevada_df, new_jersey_df, new_york_df, oregon_df, pennsylvania_df, rhode_island_df, west_virginia_df]"
   ]
  },
  {
   "cell_type": "code",
   "execution_count": 8,
   "metadata": {},
   "outputs": [],
   "source": [
    "# considered a merge on the date column, but it would create a really ugly dataframe\n",
    "# there might be another way to organize the date using the dates as columns, but rearranging things that way would be somewhat difficult and convoluted\n",
    "state_revenue_df = pd.concat(state_dfs, axis=0)"
   ]
  },
  {
   "cell_type": "code",
   "execution_count": 9,
   "metadata": {},
   "outputs": [
    {
     "data": {
      "text/html": "<div>\n<style scoped>\n    .dataframe tbody tr th:only-of-type {\n        vertical-align: middle;\n    }\n\n    .dataframe tbody tr th {\n        vertical-align: top;\n    }\n\n    .dataframe thead th {\n        text-align: right;\n    }\n</style>\n<table border=\"1\" class=\"dataframe\">\n  <thead>\n    <tr style=\"text-align: right;\">\n      <th></th>\n      <th>State</th>\n      <th>Date</th>\n      <th>Handle</th>\n      <th>Revenue</th>\n      <th>Hold</th>\n      <th>Taxes</th>\n    </tr>\n  </thead>\n  <tbody>\n    <tr>\n      <td>0</td>\n      <td>DE</td>\n      <td>18-Jun</td>\n      <td>$8,411,970</td>\n      <td>$1,090,610</td>\n      <td>13.00%</td>\n      <td>$477,142</td>\n    </tr>\n    <tr>\n      <td>1</td>\n      <td>DE</td>\n      <td>18-Jul</td>\n      <td>$7,358,080</td>\n      <td>$494,449</td>\n      <td>6.70%</td>\n      <td>$216,321</td>\n    </tr>\n    <tr>\n      <td>2</td>\n      <td>DE</td>\n      <td>18-Aug</td>\n      <td>$9,574,577</td>\n      <td>$1,264,914</td>\n      <td>13.20%</td>\n      <td>$553,400</td>\n    </tr>\n    <tr>\n      <td>3</td>\n      <td>DE</td>\n      <td>18-Sep</td>\n      <td>$14,425,723</td>\n      <td>$3,089,171</td>\n      <td>21.40%</td>\n      <td>$1,351,512</td>\n    </tr>\n    <tr>\n      <td>4</td>\n      <td>DE</td>\n      <td>18-Oct</td>\n      <td>$16,494,601</td>\n      <td>$650,413</td>\n      <td>3.90%</td>\n      <td>$284,556</td>\n    </tr>\n    <tr>\n      <td>...</td>\n      <td>...</td>\n      <td>...</td>\n      <td>...</td>\n      <td>...</td>\n      <td>...</td>\n      <td>...</td>\n    </tr>\n    <tr>\n      <td>12</td>\n      <td>WV</td>\n      <td>19-Aug</td>\n      <td>$11,563,468</td>\n      <td>$1,536,864</td>\n      <td>13.30%</td>\n      <td>$153,686</td>\n    </tr>\n    <tr>\n      <td>13</td>\n      <td>WV</td>\n      <td>19-Sep</td>\n      <td>$27,508,921</td>\n      <td>$4,119,457</td>\n      <td>15.00%</td>\n      <td>$411,946</td>\n    </tr>\n    <tr>\n      <td>14</td>\n      <td>WV</td>\n      <td>19-Oct</td>\n      <td>$32,833,393</td>\n      <td>$3,197,892</td>\n      <td>9.70%</td>\n      <td>$319,789</td>\n    </tr>\n    <tr>\n      <td>15</td>\n      <td>WV</td>\n      <td>19-Nov</td>\n      <td>$35,268,743</td>\n      <td>$1,884,396</td>\n      <td>5.30%</td>\n      <td>$188,440</td>\n    </tr>\n    <tr>\n      <td>16</td>\n      <td>WV</td>\n      <td>19-Dec</td>\n      <td>$34,159,637</td>\n      <td>$2,709,585</td>\n      <td>7.90%</td>\n      <td>$270,959</td>\n    </tr>\n  </tbody>\n</table>\n<p>134 rows × 6 columns</p>\n</div>",
      "text/plain": "   State    Date        Handle      Revenue    Hold        Taxes\n0     DE  18-Jun   $8,411,970   $1,090,610   13.00%    $477,142 \n1     DE  18-Jul   $7,358,080     $494,449    6.70%    $216,321 \n2     DE  18-Aug   $9,574,577   $1,264,914   13.20%    $553,400 \n3     DE  18-Sep  $14,425,723   $3,089,171   21.40%  $1,351,512 \n4     DE  18-Oct  $16,494,601     $650,413    3.90%    $284,556 \n..   ...     ...           ...          ...     ...          ...\n12    WV  19-Aug  $11,563,468   $1,536,864   13.30%    $153,686 \n13    WV  19-Sep  $27,508,921   $4,119,457   15.00%    $411,946 \n14    WV  19-Oct  $32,833,393   $3,197,892    9.70%    $319,789 \n15    WV  19-Nov  $35,268,743   $1,884,396    5.30%    $188,440 \n16    WV  19-Dec  $34,159,637   $2,709,585    7.90%    $270,959 \n\n[134 rows x 6 columns]"
     },
     "execution_count": 9,
     "metadata": {},
     "output_type": "execute_result"
    }
   ],
   "source": [
    "state_revenue_df"
   ]
  },
  {
   "cell_type": "code",
   "execution_count": null,
   "metadata": {},
   "outputs": [],
   "source": []
  }
 ]
}